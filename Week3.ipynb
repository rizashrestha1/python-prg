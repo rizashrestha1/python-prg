{
 "cells": [
  {
   "cell_type": "markdown",
   "metadata": {},
   "source": [
    "<h3><center>Data Analysis with Pandas </center></h3>\n",
    "\n",
    "\n",
    "\n",
    "<h4><center>Rija Shrestha</center></h4>\n",
    "<h4><center>Presidential Graduate School, Kathmandu </center></h4>\n",
    "<h4><center>PRG 330: Python Programming with Data </center></h4>\n",
    "<h4><center> Prof. Tek Raj Pant </center></h4>\n",
    "<h4><center> Novemeber 10, 2024</center></h4>"
   ]
  },
  {
   "cell_type": "markdown",
   "metadata": {},
   "source": [
    "# Data Analysis with Pandas\n",
    "## Import and use Pandas"
   ]
  },
  {
   "cell_type": "code",
   "execution_count": 7,
   "metadata": {},
   "outputs": [
    {
     "name": "stdout",
     "output_type": "stream",
     "text": [
      "0    1\n",
      "1    2\n",
      "2    3\n",
      "3    4\n",
      "dtype: int64\n"
     ]
    }
   ],
   "source": [
    "import pandas as pd\n",
    "\n",
    "# create new series\n",
    "number_series = pd.Series([1,2,3,4])\n",
    "print(number_series)\n"
   ]
  },
  {
   "cell_type": "code",
   "execution_count": null,
   "metadata": {},
   "outputs": [
    {
     "name": "stdout",
     "output_type": "stream",
     "text": [
      "   Name  Age    Address\n",
      "0   Ram   20  Kathmandu\n",
      "1  Hari   23   Lalitpur\n"
     ]
    }
   ],
   "source": [
    "import pandas as pd\n",
    "\n",
    "# create new Data Frame\n",
    "user_data_dict = {\n",
    "    \"Name\":[\"Ram\",\"Hari\"],\n",
    "    \"Age\":[20,23],\n",
    "    \"Address\":[\"Kathmandu\",\"Lalitpur\"]\n",
    "}\n",
    "user_data = pd.DataFrame(user_data_dict)\n",
    "print(user_data)\n",
    "\n",
    "# to print specific columns or rows write user_data [column name or row number]"
   ]
  },
  {
   "cell_type": "markdown",
   "metadata": {},
   "source": [
    "## Read Data From CSV, Excel and JASON file"
   ]
  },
  {
   "cell_type": "markdown",
   "metadata": {},
   "source": [
    "### Read Data from CSV"
   ]
  },
  {
   "cell_type": "code",
   "execution_count": 2,
   "metadata": {},
   "outputs": [
    {
     "name": "stdout",
     "output_type": "stream",
     "text": [
      "   id        name  class  mark  gender\n",
      "0   1    John Deo   Four    75  female\n",
      "1   2    Max Ruin  Three    85    male\n",
      "2   3      Arnold  Three    55    male\n",
      "3   4  Krish Star   Four    60  female\n",
      "4   5   John Mike   Four    60  female\n",
      "   id        name  class  mark  gender\n",
      "0   1    John Deo   Four    75  female\n",
      "1   2    Max Ruin  Three    85    male\n",
      "2   3      Arnold  Three    55    male\n",
      "3   4  Krish Star   Four    60  female\n",
      "4   5   John Mike   Four    60  female\n"
     ]
    }
   ],
   "source": [
    "# CSV \n",
    "\n",
    "import pandas as pd\n",
    "\n",
    "student_csv_data = pd.read_csv('data/student.csv') #read \n",
    "student_csv_data.tail()\n",
    "\n",
    "# read data from csv file\n",
    "\n",
    "student_excel_data = pd.read_excel('data/student.xlsx')\n",
    "print(student_excel_data.head())\n",
    "\n",
    "# read data from json\n",
    "\n",
    "student_json_data = pd.read_json('data/student.json')\n",
    "print(student_excel_data.head())"
   ]
  },
  {
   "cell_type": "code",
   "execution_count": 3,
   "metadata": {},
   "outputs": [],
   "source": [
    "# Create new DataFrame\n",
    "\n",
    "user_data = pd.DataFrame({\n",
    "    \"Name\":[\"Ram\",\"Hari\"],\n",
    "    \"Age\": [20,23],\n",
    "    \"Address\":[\"Kathmandu\",\"Lalitpur\"]\n",
    "})\n",
    "\n",
    "user_data.to_csv('data/user_data.csv')\n",
    "user_data.to_excel('data/user_data.xlsx')\n",
    "user_data.to_json('data/user_data.json')"
   ]
  },
  {
   "cell_type": "markdown",
   "metadata": {},
   "source": [
    "# Basic Data Exploration\n",
    "## Data Inspection"
   ]
  },
  {
   "cell_type": "code",
   "execution_count": 4,
   "metadata": {},
   "outputs": [
    {
     "name": "stdout",
     "output_type": "stream",
     "text": [
      "(35, 5)\n",
      "   id        name  class  mark  gender\n",
      "0   1    John Deo   Four    75  female\n",
      "1   2    Max Ruin  Three    85    male\n",
      "2   3      Arnold  Three    55    male\n",
      "3   4  Krish Star   Four    60  female\n",
      "4   5   John Mike   Four    60  female\n",
      "<class 'pandas.core.frame.DataFrame'>\n",
      "RangeIndex: 35 entries, 0 to 34\n",
      "Data columns (total 5 columns):\n",
      " #   Column  Non-Null Count  Dtype \n",
      "---  ------  --------------  ----- \n",
      " 0   id      35 non-null     int64 \n",
      " 1   name    35 non-null     object\n",
      " 2   class   35 non-null     object\n",
      " 3   mark    35 non-null     int64 \n",
      " 4   gender  35 non-null     object\n",
      "dtypes: int64(2), object(3)\n",
      "memory usage: 1.5+ KB\n",
      "None\n"
     ]
    },
    {
     "data": {
      "text/html": [
       "<div>\n",
       "<style scoped>\n",
       "    .dataframe tbody tr th:only-of-type {\n",
       "        vertical-align: middle;\n",
       "    }\n",
       "\n",
       "    .dataframe tbody tr th {\n",
       "        vertical-align: top;\n",
       "    }\n",
       "\n",
       "    .dataframe thead th {\n",
       "        text-align: right;\n",
       "    }\n",
       "</style>\n",
       "<table border=\"1\" class=\"dataframe\">\n",
       "  <thead>\n",
       "    <tr style=\"text-align: right;\">\n",
       "      <th></th>\n",
       "      <th>id</th>\n",
       "      <th>mark</th>\n",
       "    </tr>\n",
       "  </thead>\n",
       "  <tbody>\n",
       "    <tr>\n",
       "      <th>count</th>\n",
       "      <td>35.000000</td>\n",
       "      <td>35.000000</td>\n",
       "    </tr>\n",
       "    <tr>\n",
       "      <th>mean</th>\n",
       "      <td>18.000000</td>\n",
       "      <td>74.657143</td>\n",
       "    </tr>\n",
       "    <tr>\n",
       "      <th>std</th>\n",
       "      <td>10.246951</td>\n",
       "      <td>16.401117</td>\n",
       "    </tr>\n",
       "    <tr>\n",
       "      <th>min</th>\n",
       "      <td>1.000000</td>\n",
       "      <td>18.000000</td>\n",
       "    </tr>\n",
       "    <tr>\n",
       "      <th>25%</th>\n",
       "      <td>9.500000</td>\n",
       "      <td>62.500000</td>\n",
       "    </tr>\n",
       "    <tr>\n",
       "      <th>50%</th>\n",
       "      <td>18.000000</td>\n",
       "      <td>79.000000</td>\n",
       "    </tr>\n",
       "    <tr>\n",
       "      <th>75%</th>\n",
       "      <td>26.500000</td>\n",
       "      <td>88.000000</td>\n",
       "    </tr>\n",
       "    <tr>\n",
       "      <th>max</th>\n",
       "      <td>35.000000</td>\n",
       "      <td>96.000000</td>\n",
       "    </tr>\n",
       "  </tbody>\n",
       "</table>\n",
       "</div>"
      ],
      "text/plain": [
       "              id       mark\n",
       "count  35.000000  35.000000\n",
       "mean   18.000000  74.657143\n",
       "std    10.246951  16.401117\n",
       "min     1.000000  18.000000\n",
       "25%     9.500000  62.500000\n",
       "50%    18.000000  79.000000\n",
       "75%    26.500000  88.000000\n",
       "max    35.000000  96.000000"
      ]
     },
     "execution_count": 4,
     "metadata": {},
     "output_type": "execute_result"
    }
   ],
   "source": [
    "import pandas as pd\n",
    "students = pd.read_csv('data/student.csv')\n",
    "print(students.shape)                     #no of rows and coloumns # this type of [35,5]  is called tuple\n",
    "print(students.head())                      #to print the top n=5 rows in default\n",
    "\n",
    "#print (students.tail()) to print the last n=5 rows in default\n",
    "\n",
    "print(students.info())                  #shows basic info lie no of rows, memory occupied.\n",
    "students.describe()                     # describes the data mainly statistical calculation"
   ]
  },
  {
   "cell_type": "markdown",
   "metadata": {},
   "source": [
    "# Data Selection and Indexing in Pandas\n",
    "* Basic Indexing\n",
    "* Label-based Indexing (.loc[])\n",
    "* Integer-Label-based Indexing (.iloc[])\n",
    "* Single Value Access (.at[], .iat[])"
   ]
  },
  {
   "cell_type": "markdown",
   "metadata": {},
   "source": [
    "### Basic Indexing  (either row or column)"
   ]
  },
  {
   "cell_type": "code",
   "execution_count": null,
   "metadata": {},
   "outputs": [
    {
     "name": "stdout",
     "output_type": "stream",
     "text": [
      "    id         name  mark\n",
      "0    1     John Deo    75\n",
      "1    2     Max Ruin    85\n",
      "2    3       Arnold    55\n",
      "3    4   Krish Star    60\n",
      "4    5    John Mike    60\n",
      "5    6    Alex John    55\n",
      "6    7  My John Rob    78\n",
      "7    8       Asruid    85\n",
      "8    9      Tes Qry    78\n",
      "9   10     Big John    55\n",
      "10  11       Ronald    89\n",
      "11  12        Recky    94\n",
      "12  13          Kty    88\n",
      "13  14         Bigy    88\n",
      "14  15     Tade Row    88\n",
      "15  16        Gimmy    88\n",
      "16  17        Tumyu    54\n",
      "17  18        Honny    75\n",
      "18  19        Tinny    18\n",
      "19  20       Jackly    65\n",
      "20  21   Babby John    69\n",
      "21  22       Reggid    55\n",
      "22  23        Herod    79\n",
      "23  24    Tiddy Now    78\n",
      "24  25     Giff Tow    88\n",
      "25  26       Crelea    79\n",
      "26  27     Big Nose    81\n",
      "27  28    Rojj Base    86\n",
      "28  29  Tess Played    55\n",
      "29  30    Reppy Red    79\n",
      "30  31  Marry Toeey    88\n",
      "31  32    Binn Rott    90\n",
      "32  33    Kenn Rein    96\n",
      "33  34     Gain Toe    69\n",
      "34  35   Rows Noump    88\n",
      "   id         name  class  mark  gender\n",
      "0   1     John Deo   Four    75  female\n",
      "1   2     Max Ruin  Three    85    male\n",
      "2   3       Arnold  Three    55    male\n",
      "3   4   Krish Star   Four    60  female\n",
      "4   5    John Mike   Four    60  female\n",
      "5   6    Alex John   Four    55    male\n",
      "6   7  My John Rob  Fifth    78    male\n",
      "7   8       Asruid   Five    85    male\n",
      "8   9      Tes Qry    Six    78    male\n",
      "9  10     Big John   Four    55  female\n",
      "    id         name  class  mark  gender\n",
      "30  31  Marry Toeey   Four    88    male\n",
      "31  32    Binn Rott  Seven    90  female\n",
      "32  33    Kenn Rein    Six    96  female\n",
      "33  34     Gain Toe  Seven    69    male\n",
      "34  35   Rows Noump    Six    88  female\n"
     ]
    }
   ],
   "source": [
    "import pandas as pd\n",
    "\n",
    "students = pd.read_csv('./data/student.csv')\n",
    "\n",
    "# # Basic indexing\n",
    "print(students['name'])                         # Single column as a Series\n",
    "\n",
    "new_std_data = students[['id','name','mark']]\n",
    "print(new_std_data)                             # Multiple columns as a DataFrame\n",
    "\n",
    "# # # Slicing rows\n",
    "first_10_rows = students[:10].copy()\n",
    "print(first_10_rows)                            # only first row \n",
    "last_five_rows = students[30:].copy()\n",
    "print(last_five_rows)                           # Rows from index 30 to lat index (dataframe)"
   ]
  },
  {
   "cell_type": "markdown",
   "metadata": {},
   "source": [
    "### Label-based Indexing (.loc[])      (both row and column but with location)\n",
    "* **.loc[]** is used for selecting rows and columns by labels\n",
    "* We can use single labels, list of labels, or slices of labels"
   ]
  },
  {
   "cell_type": "code",
   "execution_count": 11,
   "metadata": {},
   "outputs": [
    {
     "name": "stdout",
     "output_type": "stream",
     "text": [
      "id               2\n",
      "name      Max Ruin\n",
      "class        Three\n",
      "mark            85\n",
      "gender        male\n",
      "Name: 1, dtype: object\n",
      "   id      name  class  mark  gender\n",
      "0   1  John Deo   Four    75  female\n",
      "1   2  Max Ruin  Three    85    male\n",
      "2   3    Arnold  Three    55    male\n"
     ]
    }
   ],
   "source": [
    "# Selecting rows based on label\n",
    " \n",
    "students = pd.read_csv(\"data/student.csv\")\n",
    "first_row = students.loc[1]\n",
    "first_two_rows = students.loc[0:2]\n",
    "print(first_row)\n",
    "                              # Row with label 1(index) labels can be string, date etc \n",
    "print(first_two_rows)\n",
    "# Rows with labels 1 to 2"
   ]
  },
  {
   "cell_type": "code",
   "execution_count": 10,
   "metadata": {},
   "outputs": [
    {
     "name": "stdout",
     "output_type": "stream",
     "text": [
      "         name  class  mark\n",
      "0    John Deo   Four    75\n",
      "1    Max Ruin  Three    85\n",
      "2      Arnold  Three    55\n",
      "3  Krish Star   Four    60\n",
      "4   John Mike   Four    60\n",
      "5   Alex John   Four    55\n"
     ]
    },
    {
     "data": {
      "text/html": [
       "<div>\n",
       "<style scoped>\n",
       "    .dataframe tbody tr th:only-of-type {\n",
       "        vertical-align: middle;\n",
       "    }\n",
       "\n",
       "    .dataframe tbody tr th {\n",
       "        vertical-align: top;\n",
       "    }\n",
       "\n",
       "    .dataframe thead th {\n",
       "        text-align: right;\n",
       "    }\n",
       "</style>\n",
       "<table border=\"1\" class=\"dataframe\">\n",
       "  <thead>\n",
       "    <tr style=\"text-align: right;\">\n",
       "      <th></th>\n",
       "      <th>name</th>\n",
       "      <th>gender</th>\n",
       "    </tr>\n",
       "  </thead>\n",
       "  <tbody>\n",
       "    <tr>\n",
       "      <th>5</th>\n",
       "      <td>Alex John</td>\n",
       "      <td>male</td>\n",
       "    </tr>\n",
       "    <tr>\n",
       "      <th>20</th>\n",
       "      <td>Babby John</td>\n",
       "      <td>female</td>\n",
       "    </tr>\n",
       "  </tbody>\n",
       "</table>\n",
       "</div>"
      ],
      "text/plain": [
       "          name  gender\n",
       "5    Alex John    male\n",
       "20  Babby John  female"
      ]
     },
     "execution_count": 10,
     "metadata": {},
     "output_type": "execute_result"
    }
   ],
   "source": [
    "# Selecting specific rows to columns\n",
    "\n",
    "first_two_stds_with_name_to_marks = students.loc[0:5,'name':'mark']\n",
    "print(first_two_stds_with_name_to_marks)    # Rows θ to 5 columns name to mark\n",
    "\n",
    "# select only particular rows and columns\n",
    "first_and_second_row_with_name_and_gender = students.loc[[5, 20], ['name','gender']] \n",
    "\n",
    "# Rows 5 and 20, columns name and gender\n",
    "first_and_second_row_with_name_and_gender\n"
   ]
  },
  {
   "cell_type": "markdown",
   "metadata": {},
   "source": [
    "### Integer-location Based Indexing  (only index of row and column can be used without numbers)\n",
    "* **iloc[]** is used for selecting rows and columns by integer index positions\n",
    "* Similar to .loc[], we can use single integers, lists of integers, or slices"
   ]
  },
  {
   "cell_type": "code",
   "execution_count": 14,
   "metadata": {},
   "outputs": [
    {
     "name": "stdout",
     "output_type": "stream",
     "text": [
      "id               2\n",
      "name      Max Ruin\n",
      "class        Three\n",
      "mark            85\n",
      "gender        male\n",
      "Name: 1, dtype: object\n",
      "   id      name  class  mark  gender\n",
      "0   1  John Deo   Four    75  female\n",
      "1   2  Max Ruin  Three    85    male\n",
      "2   3    Arnold  Three    55    male\n",
      "   id      name\n",
      "0   1  John Deo\n",
      "1   2  Max Ruin\n",
      "   id  class\n",
      "0   1   Four\n",
      "2   3  Three\n"
     ]
    }
   ],
   "source": [
    "# Selecting rows based on index positions\n",
    "\n",
    "print(students.iloc[1])                  # Second row (index 1)\n",
    "print(students.iloc[0:3])                # Rows at index positions 0 to 2\n",
    "\n",
    "# Selecting specific rows aná columns\n",
    "print(students.iloc[0:2, 0:2])             # Rows 0 to 1, columns 0 to 1\n",
    "print(students.iloc[[0, 2],[0, 2]])        # Rows 0 and 2, colunns o and 2\n",
    "      \n"
   ]
  },
  {
   "cell_type": "markdown",
   "metadata": {},
   "source": [
    "### Single Value Access (.at[] and .iat[])\n",
    "* at[] is used for accessing a single scalar value by label.\n",
    "* .iat[] is for accessing by index position."
   ]
  },
  {
   "cell_type": "code",
   "execution_count": null,
   "metadata": {},
   "outputs": [
    {
     "name": "stdout",
     "output_type": "stream",
     "text": [
      "John Deo\n",
      "Alex John\n"
     ]
    }
   ],
   "source": [
    "# Using .at[] to access single value by label \n",
    "\n",
    "print(students.at[0, 'name'])         # value in row 2\n",
    "\n",
    "# Using .iat to access single value by position \n",
    "print(students.iat[5, 1])"
   ]
  },
  {
   "cell_type": "markdown",
   "metadata": {},
   "source": [
    "### Filtering\n",
    "* Logical operators(>, <,==,!=)\n",
    "* Multiple logical operators (&(AND) and |(OR))\n",
    "* Str ancessor, lsin, contains, between, startWith\n",
    "* Tilde (-)\n",
    "* Query\n",
    "* Nlargest and nsmallest\n",
    "* Loc and iloc"
   ]
  },
  {
   "cell_type": "markdown",
   "metadata": {},
   "source": [
    "### Logical Operators"
   ]
  },
  {
   "cell_type": "code",
   "execution_count": 19,
   "metadata": {},
   "outputs": [
    {
     "data": {
      "text/html": [
       "<div>\n",
       "<style scoped>\n",
       "    .dataframe tbody tr th:only-of-type {\n",
       "        vertical-align: middle;\n",
       "    }\n",
       "\n",
       "    .dataframe tbody tr th {\n",
       "        vertical-align: top;\n",
       "    }\n",
       "\n",
       "    .dataframe thead th {\n",
       "        text-align: right;\n",
       "    }\n",
       "</style>\n",
       "<table border=\"1\" class=\"dataframe\">\n",
       "  <thead>\n",
       "    <tr style=\"text-align: right;\">\n",
       "      <th></th>\n",
       "      <th>id</th>\n",
       "      <th>name</th>\n",
       "      <th>class</th>\n",
       "      <th>mark</th>\n",
       "      <th>gender</th>\n",
       "    </tr>\n",
       "  </thead>\n",
       "  <tbody>\n",
       "    <tr>\n",
       "      <th>1</th>\n",
       "      <td>2</td>\n",
       "      <td>Max Ruin</td>\n",
       "      <td>Three</td>\n",
       "      <td>85</td>\n",
       "      <td>male</td>\n",
       "    </tr>\n",
       "    <tr>\n",
       "      <th>2</th>\n",
       "      <td>3</td>\n",
       "      <td>Arnold</td>\n",
       "      <td>Three</td>\n",
       "      <td>55</td>\n",
       "      <td>male</td>\n",
       "    </tr>\n",
       "    <tr>\n",
       "      <th>5</th>\n",
       "      <td>6</td>\n",
       "      <td>Alex John</td>\n",
       "      <td>Four</td>\n",
       "      <td>55</td>\n",
       "      <td>male</td>\n",
       "    </tr>\n",
       "    <tr>\n",
       "      <th>6</th>\n",
       "      <td>7</td>\n",
       "      <td>My John Rob</td>\n",
       "      <td>Fifth</td>\n",
       "      <td>78</td>\n",
       "      <td>male</td>\n",
       "    </tr>\n",
       "    <tr>\n",
       "      <th>7</th>\n",
       "      <td>8</td>\n",
       "      <td>Asruid</td>\n",
       "      <td>Five</td>\n",
       "      <td>85</td>\n",
       "      <td>male</td>\n",
       "    </tr>\n",
       "  </tbody>\n",
       "</table>\n",
       "</div>"
      ],
      "text/plain": [
       "   id         name  class  mark gender\n",
       "1   2     Max Ruin  Three    85   male\n",
       "2   3       Arnold  Three    55   male\n",
       "5   6    Alex John   Four    55   male\n",
       "6   7  My John Rob  Fifth    78   male\n",
       "7   8       Asruid   Five    85   male"
      ]
     },
     "execution_count": 19,
     "metadata": {},
     "output_type": "execute_result"
    }
   ],
   "source": [
    "# students with marks greater than 40\n",
    "\n",
    "stds_marks_greater_than_40 = students[students.mark<40]\n",
    "stds_marks_greater_than_40.head()\n",
    "\n",
    "boys = students[students.gender=='male']\n",
    "\n",
    "boys.head()"
   ]
  },
  {
   "cell_type": "code",
   "execution_count": 20,
   "metadata": {},
   "outputs": [
    {
     "name": "stdout",
     "output_type": "stream",
     "text": [
      "    id   name class  mark gender\n",
      "18  19  Tinny  Nine    18   male\n"
     ]
    },
    {
     "data": {
      "text/html": [
       "<div>\n",
       "<style scoped>\n",
       "    .dataframe tbody tr th:only-of-type {\n",
       "        vertical-align: middle;\n",
       "    }\n",
       "\n",
       "    .dataframe tbody tr th {\n",
       "        vertical-align: top;\n",
       "    }\n",
       "\n",
       "    .dataframe thead th {\n",
       "        text-align: right;\n",
       "    }\n",
       "</style>\n",
       "<table border=\"1\" class=\"dataframe\">\n",
       "  <thead>\n",
       "    <tr style=\"text-align: right;\">\n",
       "      <th></th>\n",
       "      <th>id</th>\n",
       "      <th>name</th>\n",
       "      <th>class</th>\n",
       "      <th>mark</th>\n",
       "      <th>gender</th>\n",
       "    </tr>\n",
       "  </thead>\n",
       "  <tbody>\n",
       "    <tr>\n",
       "      <th>1</th>\n",
       "      <td>2</td>\n",
       "      <td>Max Ruin</td>\n",
       "      <td>Three</td>\n",
       "      <td>85</td>\n",
       "      <td>male</td>\n",
       "    </tr>\n",
       "    <tr>\n",
       "      <th>2</th>\n",
       "      <td>3</td>\n",
       "      <td>Arnold</td>\n",
       "      <td>Three</td>\n",
       "      <td>55</td>\n",
       "      <td>male</td>\n",
       "    </tr>\n",
       "    <tr>\n",
       "      <th>5</th>\n",
       "      <td>6</td>\n",
       "      <td>Alex John</td>\n",
       "      <td>Four</td>\n",
       "      <td>55</td>\n",
       "      <td>male</td>\n",
       "    </tr>\n",
       "    <tr>\n",
       "      <th>6</th>\n",
       "      <td>7</td>\n",
       "      <td>My John Rob</td>\n",
       "      <td>Fifth</td>\n",
       "      <td>78</td>\n",
       "      <td>male</td>\n",
       "    </tr>\n",
       "    <tr>\n",
       "      <th>7</th>\n",
       "      <td>8</td>\n",
       "      <td>Asruid</td>\n",
       "      <td>Five</td>\n",
       "      <td>85</td>\n",
       "      <td>male</td>\n",
       "    </tr>\n",
       "  </tbody>\n",
       "</table>\n",
       "</div>"
      ],
      "text/plain": [
       "   id         name  class  mark gender\n",
       "1   2     Max Ruin  Three    85   male\n",
       "2   3       Arnold  Three    55   male\n",
       "5   6    Alex John   Four    55   male\n",
       "6   7  My John Rob  Fifth    78   male\n",
       "7   8       Asruid   Five    85   male"
      ]
     },
     "execution_count": 20,
     "metadata": {},
     "output_type": "execute_result"
    }
   ],
   "source": [
    "# students with marks less than 40 and the list of students gender boys\n",
    "\n",
    "stds_marks_less_than_40 = students [students.mark<40]\n",
    "print (stds_marks_less_than_40.head())\n",
    "\n",
    "boys = students[students.gender=='male']\n",
    "\n",
    "boys.head()"
   ]
  },
  {
   "cell_type": "markdown",
   "metadata": {},
   "source": [
    "### Multiple Logical Operators"
   ]
  },
  {
   "cell_type": "code",
   "execution_count": 21,
   "metadata": {},
   "outputs": [
    {
     "data": {
      "text/html": [
       "<div>\n",
       "<style scoped>\n",
       "    .dataframe tbody tr th:only-of-type {\n",
       "        vertical-align: middle;\n",
       "    }\n",
       "\n",
       "    .dataframe tbody tr th {\n",
       "        vertical-align: top;\n",
       "    }\n",
       "\n",
       "    .dataframe thead th {\n",
       "        text-align: right;\n",
       "    }\n",
       "</style>\n",
       "<table border=\"1\" class=\"dataframe\">\n",
       "  <thead>\n",
       "    <tr style=\"text-align: right;\">\n",
       "      <th></th>\n",
       "      <th>id</th>\n",
       "      <th>name</th>\n",
       "      <th>class</th>\n",
       "      <th>mark</th>\n",
       "      <th>gender</th>\n",
       "    </tr>\n",
       "  </thead>\n",
       "  <tbody>\n",
       "    <tr>\n",
       "      <th>14</th>\n",
       "      <td>15</td>\n",
       "      <td>Tade Row</td>\n",
       "      <td>Four</td>\n",
       "      <td>88</td>\n",
       "      <td>male</td>\n",
       "    </tr>\n",
       "    <tr>\n",
       "      <th>15</th>\n",
       "      <td>16</td>\n",
       "      <td>Gimmy</td>\n",
       "      <td>Four</td>\n",
       "      <td>88</td>\n",
       "      <td>male</td>\n",
       "    </tr>\n",
       "    <tr>\n",
       "      <th>30</th>\n",
       "      <td>31</td>\n",
       "      <td>Marry Toeey</td>\n",
       "      <td>Four</td>\n",
       "      <td>88</td>\n",
       "      <td>male</td>\n",
       "    </tr>\n",
       "  </tbody>\n",
       "</table>\n",
       "</div>"
      ],
      "text/plain": [
       "    id         name class  mark gender\n",
       "14  15     Tade Row  Four    88   male\n",
       "15  16        Gimmy  Four    88   male\n",
       "30  31  Marry Toeey  Four    88   male"
      ]
     },
     "execution_count": 21,
     "metadata": {},
     "output_type": "execute_result"
    }
   ],
   "source": [
    "# students of class 'four' and have marks above 80\n",
    "\n",
    "class_four_high_marks = students[ (students['class'] =='Four') & (students['mark'] > 80)]\n",
    "class_four_high_marks.head()"
   ]
  },
  {
   "cell_type": "code",
   "execution_count": null,
   "metadata": {},
   "outputs": [
    {
     "data": {
      "text/html": [
       "<div>\n",
       "<style scoped>\n",
       "    .dataframe tbody tr th:only-of-type {\n",
       "        vertical-align: middle;\n",
       "    }\n",
       "\n",
       "    .dataframe tbody tr th {\n",
       "        vertical-align: top;\n",
       "    }\n",
       "\n",
       "    .dataframe thead th {\n",
       "        text-align: right;\n",
       "    }\n",
       "</style>\n",
       "<table border=\"1\" class=\"dataframe\">\n",
       "  <thead>\n",
       "    <tr style=\"text-align: right;\">\n",
       "      <th></th>\n",
       "      <th>id</th>\n",
       "      <th>name</th>\n",
       "      <th>class</th>\n",
       "      <th>mark</th>\n",
       "      <th>gender</th>\n",
       "    </tr>\n",
       "  </thead>\n",
       "  <tbody>\n",
       "    <tr>\n",
       "      <th>0</th>\n",
       "      <td>1</td>\n",
       "      <td>John Deo</td>\n",
       "      <td>Four</td>\n",
       "      <td>75</td>\n",
       "      <td>female</td>\n",
       "    </tr>\n",
       "    <tr>\n",
       "      <th>7</th>\n",
       "      <td>8</td>\n",
       "      <td>Asruid</td>\n",
       "      <td>Five</td>\n",
       "      <td>85</td>\n",
       "      <td>male</td>\n",
       "    </tr>\n",
       "    <tr>\n",
       "      <th>14</th>\n",
       "      <td>15</td>\n",
       "      <td>Tade Row</td>\n",
       "      <td>Four</td>\n",
       "      <td>88</td>\n",
       "      <td>male</td>\n",
       "    </tr>\n",
       "    <tr>\n",
       "      <th>15</th>\n",
       "      <td>16</td>\n",
       "      <td>Gimmy</td>\n",
       "      <td>Four</td>\n",
       "      <td>88</td>\n",
       "      <td>male</td>\n",
       "    </tr>\n",
       "    <tr>\n",
       "      <th>17</th>\n",
       "      <td>18</td>\n",
       "      <td>Honny</td>\n",
       "      <td>Five</td>\n",
       "      <td>75</td>\n",
       "      <td>male</td>\n",
       "    </tr>\n",
       "  </tbody>\n",
       "</table>\n",
       "</div>"
      ],
      "text/plain": [
       "    id      name class  mark  gender\n",
       "0    1  John Deo  Four    75  female\n",
       "7    8    Asruid  Five    85    male\n",
       "14  15  Tade Row  Four    88    male\n",
       "15  16     Gimmy  Four    88    male\n",
       "17  18     Honny  Five    75    male"
      ]
     },
     "execution_count": 23,
     "metadata": {},
     "output_type": "execute_result"
    }
   ],
   "source": [
    "# Students of class 'four' and 'five' and have marks above 70\n",
    "\n",
    "class_four_five_high_marks = students[((students['class'] =='Four') | (students['class']=='Five')) & (students['mark']>70)]\n",
    "class_four_five_high_marks.head()"
   ]
  }
 ],
 "metadata": {
  "kernelspec": {
   "display_name": "base",
   "language": "python",
   "name": "python3"
  },
  "language_info": {
   "codemirror_mode": {
    "name": "ipython",
    "version": 3
   },
   "file_extension": ".py",
   "mimetype": "text/x-python",
   "name": "python",
   "nbconvert_exporter": "python",
   "pygments_lexer": "ipython3",
   "version": "3.12.4"
  }
 },
 "nbformat": 4,
 "nbformat_minor": 2
}
