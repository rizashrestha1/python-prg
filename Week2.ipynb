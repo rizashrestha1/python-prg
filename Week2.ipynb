{
 "cells": [
  {
   "cell_type": "markdown",
   "metadata": {},
   "source": []
  },
  {
   "cell_type": "markdown",
   "metadata": {},
   "source": [
    "# For Loop\n",
    "Iterate over list, range (enumarator)"
   ]
  },
  {
   "cell_type": "code",
   "execution_count": 1,
   "metadata": {},
   "outputs": [
    {
     "name": "stdout",
     "output_type": "stream",
     "text": [
      "1\n",
      "1\n",
      "2\n",
      "3\n",
      "4\n",
      "5\n",
      "3\n",
      "1\n",
      "100\n"
     ]
    }
   ],
   "source": [
    "numbers=[1,1,2,3,4,5,3,1,100]    #list of int\n",
    "even_list=[]\n",
    "\n",
    "#iterate over listfor num in numbers:\n",
    "for num in numbers:\n",
    "    print (num)\n",
    "\n"
   ]
  },
  {
   "cell_type": "code",
   "execution_count": 5,
   "metadata": {},
   "outputs": [
    {
     "name": "stdout",
     "output_type": "stream",
     "text": [
      "2\n",
      "4\n",
      "100\n",
      "[2, 4, 100]\n",
      "[1, 1, 3, 5, 3, 1]\n",
      "2 exists in number\n"
     ]
    }
   ],
   "source": [
    "#Print list of odd and even numbers from the given list\n",
    "\n",
    "numbers=[1,1,2,3,4,5,3,1,100]    #list of int\n",
    "even_list=[]\n",
    "odd_list=[]\n",
    "\n",
    "#iterate over listfor num in numbers:\n",
    "for num in numbers:\n",
    "    if num % 2==0:\n",
    "       print (num)\n",
    "       even_list.append(num)\n",
    "    else:\n",
    "        odd_list.append(num)\n",
    "print(even_list)\n",
    "print(odd_list)\n",
    "\n",
    "if 2 in numbers:\n",
    "    print('2 exists in number')"
   ]
  },
  {
   "cell_type": "code",
   "execution_count": 7,
   "metadata": {},
   "outputs": [
    {
     "name": "stdout",
     "output_type": "stream",
     "text": [
      "[1, 2, 3, 4, 5, 7, 9, 100]\n"
     ]
    }
   ],
   "source": [
    "# To create a list of unique numbers from givem list\n",
    "\n",
    "numbers=[1,1,2,3,4,5,3,1,7,9,5,100]    \n",
    "unique_num=[]\n",
    "\n",
    "for num in numbers:\n",
    "    if num not in unique_num:\n",
    "       unique_num.append(num)\n",
    "print(unique_num)\n"
   ]
  },
  {
   "cell_type": "markdown",
   "metadata": {},
   "source": [
    "#For Loop in String"
   ]
  },
  {
   "cell_type": "code",
   "execution_count": 8,
   "metadata": {},
   "outputs": [
    {
     "name": "stdout",
     "output_type": "stream",
     "text": [
      "H\n",
      "e\n",
      "l\n",
      "l\n",
      "o\n",
      " \n",
      "W\n",
      "o\n",
      "r\n",
      "l\n",
      "d\n"
     ]
    }
   ],
   "source": [
    "# Count total numbers of alphabets in the given string\n",
    "\n",
    "sentence=\"Hello World\"\n",
    "\n",
    "for char in sentence:\n",
    "    print(char)"
   ]
  },
  {
   "cell_type": "code",
   "execution_count": 11,
   "metadata": {},
   "outputs": [
    {
     "name": "stdout",
     "output_type": "stream",
     "text": [
      "2\n"
     ]
    }
   ],
   "source": [
    "#Print the total number of Vowel in a word\n",
    "\n",
    "sentence=\"apple\"\n",
    "vowels=\"a,e,i,o,u\"\n",
    "total_vowels=0\n",
    "\n",
    "for char in sentence:\n",
    "    if char in vowels:\n",
    "        total_vowels +=1\n",
    "print (total_vowels)"
   ]
  },
  {
   "cell_type": "code",
   "execution_count": 15,
   "metadata": {},
   "outputs": [
    {
     "name": "stdout",
     "output_type": "stream",
     "text": [
      "4\n"
     ]
    }
   ],
   "source": [
    "#Print the total number of consonents in a word\n",
    "\n",
    "sentence=\"rijars\"\n",
    "vowels=\"a,e,i,o,u\"\n",
    "total_vowels=0\n",
    "\n",
    "for char in sentence:\n",
    "    if char not in vowels:\n",
    "        total_vowels +=1\n",
    "print (total_vowels)"
   ]
  },
  {
   "cell_type": "code",
   "execution_count": 1,
   "metadata": {},
   "outputs": [
    {
     "name": "stdout",
     "output_type": "stream",
     "text": [
      "96\n"
     ]
    }
   ],
   "source": [
    "# Find sum of all items in given list\n",
    "\n",
    "numbers = [100,1,-10,5]\n",
    "sum=0\n",
    "for  num in numbers:\n",
    "    sum += num\n",
    "print(sum)"
   ]
  },
  {
   "cell_type": "code",
   "execution_count": 6,
   "metadata": {},
   "outputs": [
    {
     "name": "stdout",
     "output_type": "stream",
     "text": [
      "0\n"
     ]
    }
   ],
   "source": [
    "# Find average among all items in given list\n",
    "\n",
    "numbers = [100,1,-10,5]\n",
    "sum = 0\n",
    "\n",
    "len (numbers)\n",
    "for num in numbers: \n",
    "    sum % len (numbers)\n",
    "\n",
    "print(sum)"
   ]
  },
  {
   "cell_type": "markdown",
   "metadata": {},
   "source": [
    "# Range\n",
    "Range(start,stop,step)"
   ]
  },
  {
   "cell_type": "code",
   "execution_count": 7,
   "metadata": {},
   "outputs": [
    {
     "name": "stdout",
     "output_type": "stream",
     "text": [
      "1\n",
      "2\n",
      "3\n",
      "4\n",
      "5\n",
      "6\n",
      "7\n",
      "8\n",
      "9\n",
      "10\n"
     ]
    }
   ],
   "source": [
    "range_of_100 = range(1,10)\n",
    "sum=0\n",
    "for i in range(1,11):   #for i=0; i<10, i++\n",
    "    print(i)\n",
    "    sum+=i"
   ]
  },
  {
   "cell_type": "markdown",
   "metadata": {},
   "source": [
    "# Incline for loop"
   ]
  },
  {
   "cell_type": "code",
   "execution_count": 1,
   "metadata": {},
   "outputs": [
    {
     "name": "stdout",
     "output_type": "stream",
     "text": [
      "[1, 200, 3, 400, 600, 8800, 19]\n"
     ]
    }
   ],
   "source": [
    "numbers = [1,2,3,4,6,88,19]\n",
    "transformed_list=[(num*100 if num%2==0 else num) for num in numbers]\n",
    "print(transformed_list)"
   ]
  },
  {
   "cell_type": "markdown",
   "metadata": {},
   "source": [
    "# def function_name (parameters):\n",
    "    #Block of code\n",
    "    return expression"
   ]
  },
  {
   "cell_type": "code",
   "execution_count": 2,
   "metadata": {},
   "outputs": [
    {
     "name": "stdout",
     "output_type": "stream",
     "text": [
      "15\n"
     ]
    }
   ],
   "source": [
    "# Finding the sum of two numbers\n",
    "\n",
    "def add(x,y):\n",
    "    sum = x+y\n",
    "    return sum                   # Return the computed sum to the caller\n",
    "sum = add(x=5, y=10)\n",
    "print(sum)"
   ]
  },
  {
   "cell_type": "code",
   "execution_count": 4,
   "metadata": {},
   "outputs": [
    {
     "name": "stdout",
     "output_type": "stream",
     "text": [
      "50\n"
     ]
    }
   ],
   "source": [
    "# Finding the product of two numbers\n",
    "\n",
    "def product(x,y):\n",
    "    product = x*y\n",
    "    return product\n",
    "prod = product(5,10)\n",
    "print(prod)"
   ]
  },
  {
   "cell_type": "code",
   "execution_count": 5,
   "metadata": {},
   "outputs": [
    {
     "name": "stdout",
     "output_type": "stream",
     "text": [
      "3\n",
      "None\n"
     ]
    }
   ],
   "source": [
    "# Write a function that accepts three parameters (x, y, operation)\n",
    "# based on the operation (+,-,*,/)\n",
    "# Perform addition, subtraction, multiply and division\n",
    "# and then return the value of x operation y\n",
    "\n",
    "def calculate(x, y, op):\n",
    "    if op == '+':\n",
    "        return x + y\n",
    "    elif op == '-':\n",
    "        return x - y\n",
    "    elif op == '*':\n",
    "        return x * y\n",
    "    elif op == 'divide':\n",
    "        if y != 0:\n",
    "            return x / y\n",
    "        else:\n",
    "            return (\"Invalid operation\")\n",
    "\n",
    "sum = calculate(1,2,'+')\n",
    "print(sum)\n",
    "division = calculate (1,1,'/')\n",
    "print(division)"
   ]
  },
  {
   "cell_type": "code",
   "execution_count": 6,
   "metadata": {},
   "outputs": [
    {
     "name": "stdout",
     "output_type": "stream",
     "text": [
      "Hello, connecting to 127.0.0.1!\n"
     ]
    }
   ],
   "source": [
    "def connect(ip=\"127.0.0.1\"):\n",
    "    print(f\"Hello, connecting to {ip}!\")\n",
    "\n",
    "connect()"
   ]
  },
  {
   "cell_type": "code",
   "execution_count": 7,
   "metadata": {},
   "outputs": [
    {
     "name": "stdout",
     "output_type": "stream",
     "text": [
      "Hello, connecting to 12.12.3.4!\n"
     ]
    }
   ],
   "source": [
    "def connect(ip=\"127.0.0.1\"):\n",
    "    print(f\"Hello, connecting to {ip}!\")\n",
    "\n",
    "connect(\"12.12.3.4\")"
   ]
  },
  {
   "cell_type": "code",
   "execution_count": 5,
   "metadata": {},
   "outputs": [
    {
     "name": "stdout",
     "output_type": "stream",
     "text": [
      "Hello, connecting to 12.12.3.4!\n",
      "1\n"
     ]
    }
   ],
   "source": [
    "def connect(ip=\"127.0.0.1\"):\n",
    "    print(f\"Hello, connecting to {ip}!\")\n",
    "\n",
    "connect(\"12.12.3.4\")\n",
    "\n",
    "def sum(x=0, y=0):\n",
    "    return x + y\n",
    "    \n",
    "                             # Call the sum function with both parameters\n",
    "add = sum(1, 0)              # Pass 0 for y to use the default value\n",
    "print(add)\n"
   ]
  },
  {
   "cell_type": "markdown",
   "metadata": {},
   "source": [
    "# Return Statement:\n",
    "* Functions can return a value using the return statement.\n",
    "* If no return statement is provided, the function returns None by default."
   ]
  },
  {
   "cell_type": "code",
   "execution_count": 8,
   "metadata": {},
   "outputs": [],
   "source": [
    "def is_even_number(number):\n",
    "    if number % 2 == 0:\n",
    "        return 'Number is even'\n",
    "                                        # after return no code works\n",
    "    return 'Number is odd'"
   ]
  },
  {
   "cell_type": "markdown",
   "metadata": {},
   "source": [
    "# Lambda Function\n",
    "* Lambda functions, also known as anonymous functions, are amall, single-expression functions defined using the lambda keyword.\n",
    "* They are often used for short, simple operations."
   ]
  },
  {
   "cell_type": "code",
   "execution_count": 9,
   "metadata": {},
   "outputs": [
    {
     "name": "stdout",
     "output_type": "stream",
     "text": [
      "16\n"
     ]
    }
   ],
   "source": [
    "square = lambda x: x**2\n",
    "print(square(4))     "
   ]
  },
  {
   "cell_type": "markdown",
   "metadata": {},
   "source": [
    "# Extra Questions\n"
   ]
  },
  {
   "cell_type": "code",
   "execution_count": 13,
   "metadata": {},
   "outputs": [
    {
     "name": "stdout",
     "output_type": "stream",
     "text": [
      "10 5\n",
      "10 5\n"
     ]
    }
   ],
   "source": [
    "# Write a function to Swap two numbers without using a temporary variable\n",
    "\n",
    "def swap_numbers(a, b):\n",
    "    # Swap values\n",
    "    a = a + b\n",
    "    b = a - b\n",
    "    a = a - b\n",
    "    print(a,b)\n",
    "    return a, b\n",
    "\n",
    "a, b = swap_numbers(5, 10)\n",
    "print(a, b)"
   ]
  },
  {
   "cell_type": "code",
   "execution_count": 1,
   "metadata": {},
   "outputs": [
    {
     "name": "stdout",
     "output_type": "stream",
     "text": [
      "3\n"
     ]
    }
   ],
   "source": [
    "# Write a function to Count the number of vowels in a given string\n",
    "\n",
    "def count_vowels(sentence):\n",
    "    total_vowels = 0                    # Initialize the count correctly\n",
    "    vowels = \"aeiouAEIOU\"\n",
    "    for char in sentence:\n",
    "        if char in vowels:\n",
    "            total_vowels += 1           # Increment the correct variable\n",
    "    return total_vowels            # Ensure the return statement is at the right indentation level\n",
    "\n",
    "vowel_count = count_vowels(\"Hello World\")       # Calling the function\n",
    "print(vowel_count)  \n",
    "\n"
   ]
  },
  {
   "cell_type": "code",
   "execution_count": 20,
   "metadata": {},
   "outputs": [
    {
     "name": "stdout",
     "output_type": "stream",
     "text": [
      "2\n",
      "False\n"
     ]
    }
   ],
   "source": [
    "# Write a function to check if a number is prime or not\n",
    "\n",
    "def prime(number):\n",
    "    is_prime = True\n",
    "    for i in range(2, int(number/2)+1):\n",
    "        print(i)                           # Numbers less than or equal to 1 are not prime\n",
    "        if number % i == 0:                # Check up to the square root of the number\n",
    "            is_prime = False\n",
    "            break                          # if condition matches then loop breaks     (break=early terminating loop)\n",
    "\n",
    "    return is_prime\n",
    "\n",
    "print(prime(16))"
   ]
  }
 ],
 "metadata": {
  "kernelspec": {
   "display_name": "base",
   "language": "python",
   "name": "python3"
  },
  "language_info": {
   "codemirror_mode": {
    "name": "ipython",
    "version": 3
   },
   "file_extension": ".py",
   "mimetype": "text/x-python",
   "name": "python",
   "nbconvert_exporter": "python",
   "pygments_lexer": "ipython3",
   "version": "3.12.4"
  }
 },
 "nbformat": 4,
 "nbformat_minor": 2
}
