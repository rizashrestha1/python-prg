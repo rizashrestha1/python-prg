{
 "cells": [
  {
   "cell_type": "markdown",
   "metadata": {},
   "source": [
    "# For Loop\n",
    "Iterate over list, range (enumarator)"
   ]
  },
  {
   "cell_type": "code",
   "execution_count": 1,
   "metadata": {},
   "outputs": [
    {
     "name": "stdout",
     "output_type": "stream",
     "text": [
      "1\n",
      "1\n",
      "2\n",
      "3\n",
      "4\n",
      "5\n",
      "3\n",
      "1\n",
      "100\n"
     ]
    }
   ],
   "source": [
    "numbers=[1,1,2,3,4,5,3,1,100]    #list of int\n",
    "even_list=[]\n",
    "\n",
    "#iterate over listfor num in numbers:\n",
    "for num in numbers:\n",
    "    print (num)\n",
    "\n"
   ]
  },
  {
   "cell_type": "code",
   "execution_count": 5,
   "metadata": {},
   "outputs": [
    {
     "name": "stdout",
     "output_type": "stream",
     "text": [
      "2\n",
      "4\n",
      "100\n",
      "[2, 4, 100]\n",
      "[1, 1, 3, 5, 3, 1]\n",
      "2 exists in number\n"
     ]
    }
   ],
   "source": [
    "#Print list of odd and even numbers from the given list\n",
    "\n",
    "numbers=[1,1,2,3,4,5,3,1,100]    #list of int\n",
    "even_list=[]\n",
    "odd_list=[]\n",
    "\n",
    "#iterate over listfor num in numbers:\n",
    "for num in numbers:\n",
    "    if num % 2==0:\n",
    "       print (num)\n",
    "       even_list.append(num)\n",
    "    else:\n",
    "        odd_list.append(num)\n",
    "print(even_list)\n",
    "print(odd_list)\n",
    "\n",
    "if 2 in numbers:\n",
    "    print('2 exists in number')"
   ]
  },
  {
   "cell_type": "code",
   "execution_count": 7,
   "metadata": {},
   "outputs": [
    {
     "name": "stdout",
     "output_type": "stream",
     "text": [
      "[1, 2, 3, 4, 5, 7, 9, 100]\n"
     ]
    }
   ],
   "source": [
    "# To create a list of unique numbers from givem list\n",
    "\n",
    "numbers=[1,1,2,3,4,5,3,1,7,9,5,100]    \n",
    "unique_num=[]\n",
    "\n",
    "for num in numbers:\n",
    "    if num not in unique_num:\n",
    "       unique_num.append(num)\n",
    "print(unique_num)\n"
   ]
  },
  {
   "cell_type": "markdown",
   "metadata": {},
   "source": [
    "#For Loop in String"
   ]
  },
  {
   "cell_type": "code",
   "execution_count": 8,
   "metadata": {},
   "outputs": [
    {
     "name": "stdout",
     "output_type": "stream",
     "text": [
      "H\n",
      "e\n",
      "l\n",
      "l\n",
      "o\n",
      " \n",
      "W\n",
      "o\n",
      "r\n",
      "l\n",
      "d\n"
     ]
    }
   ],
   "source": [
    "# Count total numbers of alphabets in the given string\n",
    "\n",
    "sentence=\"Hello World\"\n",
    "\n",
    "for char in sentence:\n",
    "    print(char)"
   ]
  },
  {
   "cell_type": "code",
   "execution_count": 11,
   "metadata": {},
   "outputs": [
    {
     "name": "stdout",
     "output_type": "stream",
     "text": [
      "2\n"
     ]
    }
   ],
   "source": [
    "#Print the total number of Vowel in a word\n",
    "\n",
    "sentence=\"apple\"\n",
    "vowels=\"a,e,i,o,u\"\n",
    "total_vowels=0\n",
    "\n",
    "for char in sentence:\n",
    "    if char in vowels:\n",
    "        total_vowels +=1\n",
    "print (total_vowels)"
   ]
  },
  {
   "cell_type": "code",
   "execution_count": 15,
   "metadata": {},
   "outputs": [
    {
     "name": "stdout",
     "output_type": "stream",
     "text": [
      "4\n"
     ]
    }
   ],
   "source": [
    "#Print the total number of Vowel in a word\n",
    "\n",
    "sentence=\"rijars\"\n",
    "vowels=\"a,e,i,o,u\"\n",
    "total_vowels=0\n",
    "\n",
    "for char in sentence:\n",
    "    if char not in vowels:\n",
    "        total_vowels +=1\n",
    "print (total_vowels)"
   ]
  },
  {
   "cell_type": "code",
   "execution_count": 1,
   "metadata": {},
   "outputs": [
    {
     "name": "stdout",
     "output_type": "stream",
     "text": [
      "96\n"
     ]
    }
   ],
   "source": [
    "# Find sum of all items in given list\n",
    "\n",
    "numbers = [100,1,-10,5]\n",
    "sum=0\n",
    "for  num in numbers:\n",
    "    sum += num\n",
    "print(sum)"
   ]
  },
  {
   "cell_type": "code",
   "execution_count": 6,
   "metadata": {},
   "outputs": [
    {
     "name": "stdout",
     "output_type": "stream",
     "text": [
      "0\n"
     ]
    }
   ],
   "source": [
    "# Find average among all items in given list\n",
    "\n",
    "numbers = [100,1,-10,5]\n",
    "sum = 0\n",
    "\n",
    "len (numbers)\n",
    "for num in numbers: \n",
    "    sum % len (numbers)\n",
    "\n",
    "print(sum)"
   ]
  },
  {
   "cell_type": "markdown",
   "metadata": {},
   "source": [
    "# Range\n",
    "Range(start,stop,step)"
   ]
  },
  {
   "cell_type": "code",
   "execution_count": null,
   "metadata": {},
   "outputs": [],
   "source": [
    "range_of_100 = ()"
   ]
  }
 ],
 "metadata": {
  "kernelspec": {
   "display_name": "base",
   "language": "python",
   "name": "python3"
  },
  "language_info": {
   "codemirror_mode": {
    "name": "ipython",
    "version": 3
   },
   "file_extension": ".py",
   "mimetype": "text/x-python",
   "name": "python",
   "nbconvert_exporter": "python",
   "pygments_lexer": "ipython3",
   "version": "3.12.4"
  }
 },
 "nbformat": 4,
 "nbformat_minor": 2
}
