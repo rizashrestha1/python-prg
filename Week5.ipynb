{
 "cells": [
  {
   "cell_type": "markdown",
   "metadata": {},
   "source": [
    "# Reshaping Array using Reshape Method (Changing dimension of array)\n",
    "* Reshape array of size (m,n) to (m1, m2, n1), so that m1 x m2 x n1 = m x n"
   ]
  },
  {
   "cell_type": "code",
   "execution_count": null,
   "metadata": {},
   "outputs": [
    {
     "name": "stdout",
     "output_type": "stream",
     "text": [
      "Original array:\n",
      " [1 2 3 4 5 6]\n",
      "-------\n",
      "Reshaped array:\n",
      " [[1 2 3]\n",
      " [4 5 6]]\n"
     ]
    }
   ],
   "source": [
    "# Reshaping 1, 6 array to 2 x 3 array\n",
    "\n",
    "import numpy as np\n",
    "\n",
    "arr = np.array ([1,2,3,4,5,6])\n",
    "\n",
    "newarr = arr.reshape(2, 3)\n",
    "\n",
    "print (\"Original array:\\n\", arr)\n",
    "print(\"-------\")\n",
    "print(\"Reshaped array:\\n\", newarr)"
   ]
  },
  {
   "cell_type": "markdown",
   "metadata": {},
   "source": [
    "## Flatten Array\n",
    "* Flatten method flattens array to one dimension and returns copy of collapsed array"
   ]
  },
  {
   "cell_type": "code",
   "execution_count": 5,
   "metadata": {},
   "outputs": [
    {
     "name": "stdout",
     "output_type": "stream",
     "text": [
      "Original array:\n",
      " [[1 2 3]\n",
      " [4 5 6]]\n",
      "---------------\n",
      "Flattend array:\n",
      " [1 2 3 4 5 6]\n"
     ]
    }
   ],
   "source": [
    "import numpy as np \n",
    "#Reshaping 1,6 arrary to 2x3 array\n",
    "arr= np.array([\n",
    "    [1,2,3],\n",
    "    [4,5,6]\n",
    "    ]\n",
    ")\n",
    "\n",
    "flat=arr.flatten()\n",
    "\n",
    "print(\"Original array:\\n\", arr)\n",
    "print(\"---------------\")\n",
    "print(\"Flattend array:\\n\", flat)"
   ]
  },
  {
   "cell_type": "markdown",
   "metadata": {},
   "source": [
    "# NumPy Array Indexing and Slicing\n",
    "## **Basic Indexing**\n",
    "Indexing allows us to access the individual elements pr subsets of data"
   ]
  },
  {
   "cell_type": "code",
   "execution_count": 7,
   "metadata": {},
   "outputs": [
    {
     "name": "stdout",
     "output_type": "stream",
     "text": [
      "(6,)\n",
      "3\n",
      "6\n",
      "Print dimension of array\n",
      "2\n",
      "print the shape of array\n",
      "(3, 3)\n",
      "print toal number of items\n",
      "9\n",
      "first row first element\n",
      "1\n",
      "laast row last element\n",
      "9\n",
      "secind row third element\n",
      "6\n"
     ]
    }
   ],
   "source": [
    "#1D Array Indexing\n",
    "\n",
    "arr=np.array([1,2,3,4,5,6])\n",
    "print(arr.shape)\n",
    "print(arr[2]) #third element\n",
    "print(arr[-1]) #last element\n",
    "\n",
    "#2D Array Indexing\n",
    "num_2d_array=np.array([\n",
    "                       [1,2,3],\n",
    "                       [4,5,6],\n",
    "                       [7,8,9]\n",
    "                    ])\n",
    "print(\"Print dimension of array\")\n",
    "print(num_2d_array.ndim) \n",
    "print(\"print the shape of array\")\n",
    "print(num_2d_array.shape)\n",
    "print(\"print toal number of items\")\n",
    "print(num_2d_array.size)\n",
    "\n",
    "print(\"first row first element\")\n",
    "print(num_2d_array[0,0])\n",
    "print(\"laast row last element\")\n",
    "print(num_2d_array[-1,-1])\n",
    "print(\"secind row third element\")\n",
    "print(num_2d_array[1,2])"
   ]
  },
  {
   "cell_type": "markdown",
   "metadata": {},
   "source": [
    "# Slicing in NumPY\n",
    "In NumPy we can access the portion of an array using the slice operatoe (selecting multiple array to seperate certain part)"
   ]
  },
  {
   "cell_type": "markdown",
   "metadata": {},
   "source": [
    "## a. 1-D Array Slicing\n",
    "Syntax: array[start:stop:step]\n",
    "* **start**: Index of the first element to be included in slice\n",
    "* **stop**: index of the last element (exclusive)\n",
    "* **step**: step size between each element in the slice"
   ]
  },
  {
   "cell_type": "code",
   "execution_count": 8,
   "metadata": {},
   "outputs": [
    {
     "name": "stdout",
     "output_type": "stream",
     "text": [
      "[3 4 5 6]\n",
      "[1 3 5 7]\n",
      "[ 5  6  7  8  9 10 11]\n",
      "[ 6  7  8  9 10 11]\n",
      "[11  9  7  5  3  1]\n"
     ]
    }
   ],
   "source": [
    "arr = np.array([1,2,3,4,5,6,7,8,9,10,11])\n",
    "\n",
    "#slice array from index 2-6 (6 exclusive)\n",
    "print(arr[2:6]) #[3,4,5,6]\n",
    "\n",
    "#slice array from 0 to 8 with a step size of 2\n",
    "print(arr[0:8:2]) #[1,3,5,7]\n",
    "\n",
    "#slice array from index 4 to last element\n",
    "print(arr[4:])\n",
    "\n",
    "#slice array from start to 5th index (5th index excluded)\n",
    "print(arr[5:])\n",
    "\n",
    "#Negative index \n",
    "print(arr[-1::-2]) #slice every second element from end start"
   ]
  },
  {
   "cell_type": "code",
   "execution_count": 9,
   "metadata": {},
   "outputs": [
    {
     "name": "stdout",
     "output_type": "stream",
     "text": [
      "[100 100 100 100 100   6   7   8   9  10  11]\n"
     ]
    }
   ],
   "source": [
    "#we can also modify the array with slicing\n",
    "\n",
    "arr[:5]=100 #replace items from 0-5 with 100\n",
    "print(arr)"
   ]
  },
  {
   "cell_type": "markdown",
   "metadata": {},
   "source": [
    "## b. 2-D Array Slicing\n",
    "Syntax: array[row_start: row_stop: row_step, col_start: col_step]"
   ]
  },
  {
   "cell_type": "code",
   "execution_count": 10,
   "metadata": {},
   "outputs": [
    {
     "name": "stdout",
     "output_type": "stream",
     "text": [
      "2\n",
      "[[1 2 3]]\n",
      "[[4 5]]\n"
     ]
    }
   ],
   "source": [
    "array_2d = np.array([\n",
    "    [1,2,3],\n",
    "    [4,5,6],\n",
    "    [7,8,9]\n",
    "])\n",
    "print(array_2d.ndim)\n",
    "\n",
    "# slice first row\n",
    "print(array_2d[0:1])\n",
    "\n",
    "# slice array from first two rows and first two columns\n",
    "print(array_2d[1:2,0:2])"
   ]
  },
  {
   "cell_type": "markdown",
   "metadata": {},
   "source": [
    "## c. Boolean Array Indexing (basically data filtering)\n",
    "Boolean array indexing allows us to select elements from an array based on conditions. This technique is helpful when we need to filter elemets based on certain condition"
   ]
  },
  {
   "cell_type": "code",
   "execution_count": 11,
   "metadata": {},
   "outputs": [
    {
     "name": "stdout",
     "output_type": "stream",
     "text": [
      "[20 25 30]\n",
      "[10 20 30]\n"
     ]
    }
   ],
   "source": [
    "# Creating an array\n",
    "arr = np.array([5,10,15,20,25,30])\n",
    "\n",
    "# Select elements greater than 15\n",
    "print(arr[arr > 15])              # Output: [20 25 30]\n",
    "\n",
    "# Select elements that are even\n",
    "print(arr[arr % 2 == 0])          # Output: [10 20 30]"
   ]
  },
  {
   "cell_type": "markdown",
   "metadata": {},
   "source": [
    "# NumPy Operations    (Array can operate array)\n",
    "* NumPy Arithmetic Array Operations\n",
    "* NumPy Array Functions\n",
    "* NumPy Comparison/Logical Operations\n",
    "* NumPy Math Functions\n",
    "* NumPy Constants\n",
    "* NumPy Statisticnl Functions"
   ]
  },
  {
   "cell_type": "markdown",
   "metadata": {},
   "source": [
    "## a. NumPy Arithmetic Operations\n",
    "* add()\n",
    "* subtract()\n",
    "* multiply()\n",
    "* divide()\n",
    "* power()\n",
    "* mode()"
   ]
  },
  {
   "cell_type": "code",
   "execution_count": 15,
   "metadata": {},
   "outputs": [
    {
     "name": "stdout",
     "output_type": "stream",
     "text": [
      "Addition: [6 6 6 6 6]\n",
      "Subtraction: [-4 -2  0  2  4]\n",
      "Multiplication: [5 8 9 8 5]\n",
      "Division: [0.2 0.5 1.  2.  5. ]\n",
      "Power: [ 1 16 27 16  5]\n",
      "Mode: 1\n"
     ]
    }
   ],
   "source": [
    "import numpy as np\n",
    "\n",
    "# Define two arrays\n",
    "array1 = np.array([1, 2, 3, 4, 5])\n",
    "array2 = np.array([5, 4, 3, 2, 1])\n",
    "\n",
    "# Perform operations\n",
    "add_result = array1 + array2\n",
    "subtract_result = array1 - array2\n",
    "multiply_result = array1 * array2\n",
    "divide_result = array1 / array2\n",
    "power_result = array1 ** array2\n",
    "\n",
    "# Calculate the mode of combined arrays\n",
    "combined_array = np.concatenate((array1, array2))\n",
    "unique, counts = np.unique(combined_array, return_counts=True)\n",
    "mode_result = unique[np.argmax(counts)]\n",
    "\n",
    "# Print results\n",
    "print(\"Addition:\", add_result)\n",
    "print(\"Subtraction:\", subtract_result)\n",
    "print(\"Multiplication:\", multiply_result)\n",
    "print(\"Division:\", divide_result)\n",
    "print(\"Power:\", power_result)\n",
    "print(\"Mode:\", mode_result)\n"
   ]
  },
  {
   "cell_type": "markdown",
   "metadata": {},
   "source": [
    "# NumPy Broadcasting\n",
    "* Broadcasting in NumPy allows it to perform arithmetic operations on arrays with different shapes."
   ]
  },
  {
   "cell_type": "code",
   "execution_count": 16,
   "metadata": {},
   "outputs": [
    {
     "name": "stdout",
     "output_type": "stream",
     "text": [
      "[ 4  8 12 16]\n"
     ]
    }
   ],
   "source": [
    "arr1 = np.array ([1,2,3,4])\n",
    "arr2 = np.array(4)\n",
    "result = arr1 * arr2\n",
    "print (result)"
   ]
  },
  {
   "cell_type": "markdown",
   "metadata": {},
   "source": [
    "# Array Manipulation Functions"
   ]
  },
  {
   "cell_type": "code",
   "execution_count": 2,
   "metadata": {},
   "outputs": [
    {
     "name": "stdout",
     "output_type": "stream",
     "text": [
      "[[1 2 3]\n",
      " [4 5 6]\n",
      " [7 8 9]]\n",
      "[[1 4 7]\n",
      " [2 5 8]\n",
      " [3 6 9]]\n"
     ]
    }
   ],
   "source": [
    "import numpy as np\n",
    "numbers = np.array([1, 2,3,4, 5,6, 7,8, 9])\n",
    "\n",
    "# reshape the 1D array into a 3x3 array\n",
    "reshaped_array = np.reshape(numbers, (3, 3))     # 3 x 3 = 9\n",
    "print(reshaped_array)\n",
    "\n",
    "#transpose the array \n",
    "transposed_array = np.transpose(reshaped_array)\n",
    "print(transposed_array)"
   ]
  },
  {
   "cell_type": "markdown",
   "metadata": {},
   "source": [
    "# NumPy Mathemetical and Statistical Functions"
   ]
  },
  {
   "cell_type": "code",
   "execution_count": 3,
   "metadata": {},
   "outputs": [
    {
     "name": "stdout",
     "output_type": "stream",
     "text": [
      "^^^^^^^^^^^^Mathematical Functions^^^^^^^^^^^^\n",
      "[1.         1.41421356 1.73205081 2.        ]\n",
      "[1. 2. 3. 4.]\n",
      "****************Statistical Functions****************\n",
      "Mean: 61.3\n",
      "Median: 60.5\n",
      "Minimum marks: 10\n",
      "Maximum marks: 100\n",
      "Standard Deviation: 29.883272913119807\n"
     ]
    }
   ],
   "source": [
    "numbers = [1,2,3,4]\n",
    "\n",
    "\"\"\"^^^^^^^^^^^^Mathmatical Functions^^^^^^^^^^^^\"\"\"\n",
    "print(\"^^^^^^^^^^^^Mathematical Functions^^^^^^^^^^^^\")\n",
    "sqrt_numbers = np.sqrt(numbers)\n",
    "print(sqrt_numbers)\n",
    "square_numbers = np.square(sqrt_numbers)\n",
    "print(square_numbers)\n",
    "\n",
    "\"\"\"****************Statistical Functions****************\"\"\"\n",
    "print(\"****************Statistical Functions****************\")\n",
    "\n",
    "students_marks = np.array([30,50,67,10,100,99,98,71,54,34])\n",
    "mean_marks = np.mean(students_marks)\n",
    "print(\"Mean:\",mean_marks)\n",
    "\n",
    "# compute the median of marks\n",
    "median_marks = np.median(students_marks)\n",
    "print(\"Median:\",median_marks)\n",
    "\n",
    "# find the minimum and maximum marks\n",
    "min_marks = np.min(students_marks)\n",
    "print(\"Minimum marks:\", min_marks)\n",
    "\n",
    "max_marks = np.max(students_marks)\n",
    "print(\"Maximum marks:\", max_marks)\n",
    "\n",
    "# Find Standard Deviation\n",
    "standard_deviation = np.std(students_marks)\n",
    "print(\"Standard Deviation:\", standard_deviation)"
   ]
  },
  {
   "cell_type": "markdown",
   "metadata": {},
   "source": [
    "# NumPy Matrix Operations\n",
    "* Matrix Multiplication np.matmul()\n",
    "* Dot Product np.dot()\n",
    "* Cross Product np.cross()\n",
    "* Transpose np.transpose\n",
    "* Inverse np.linalg.inverse()\n",
    "* Determinant linalg.det() linalg=>Linear Algebra\n",
    "* Norm np.linalg.norm()      squaring\n",
    "* Trace np.linalg.trace()"
   ]
  },
  {
   "cell_type": "markdown",
   "metadata": {},
   "source": [
    "##### Formula:\n",
    "* Angle between two vectors:  cosθ = dot (A, B) by |A| . |B| \n",
    "* dot product =|A| . |B| . Cosθ  "
   ]
  },
  {
   "cell_type": "code",
   "execution_count": null,
   "metadata": {},
   "outputs": [
    {
     "name": "stdout",
     "output_type": "stream",
     "text": [
      "[[22 28]\n",
      " [49 64]]\n",
      "36.0\n",
      "[-3  6 -3]\n"
     ]
    }
   ],
   "source": [
    "mat_1 = [\n",
    "            [1,2,3],\n",
    "            [4,5,6]\n",
    "]            # 2,3\n",
    "mat_2 = [\n",
    "    [1,2],\n",
    "    [3,4],\n",
    "    [5,6]\n",
    "]            # 3,2\n",
    "\n",
    "# output row_1, col_2\n",
    "result = np.matmul(mat_1, mat_2)       # multiplying the two vectors\n",
    "print (result)\n",
    "\n",
    "# find determinant of matrix\n",
    "determinant = np.linalg.det(result)\n",
    "print (determinant)\n",
    "\n",
    "# vector operations\n",
    "vec1 = [1,2,3]\n",
    "vec2 = [4,5,6]\n",
    "\n",
    "# dot product\n",
    "dot_prod = np.dot(vec1,vec2)\n",
    "dot_prod                              # dot product =|A| . |B| . Cosθ  scalar product\n",
    " \n",
    "# cross product\n",
    "cross_prod = np.cross(vec1, vec2)      # vector product\n",
    "print (cross_prod)\n"
   ]
  },
  {
   "cell_type": "markdown",
   "metadata": {},
   "source": [
    "# Find out the similarity between following two sentences using cosine similarity\n",
    "• The Sky is Blue\n",
    "\n",
    "• The Ocean is Blue\n"
   ]
  },
  {
   "cell_type": "code",
   "execution_count": null,
   "metadata": {},
   "outputs": [
    {
     "name": "stdout",
     "output_type": "stream",
     "text": [
      "Cosine Similarity: 0.92\n"
     ]
    }
   ],
   "source": [
    "# Input sentences\n",
    "sen_1 = \"the sky is blue\".lower()\n",
    "sen_2 = \"the ocean is blue\".lower()\n",
    "\n",
    "vec_1 = np.array ([1,2,3,4])\n",
    "vec_2 = np.array ([1,5,3,4])\n",
    "\n",
    "similarity = np.dot (vec_1, vec_2) / (np.sqrt(np.dot(vec_1, vec_1)) * np.sqrt(np.dot(vec_2, vec_2)))\n",
    "\n",
    "# Print result\n",
    "print(f\"Cosine Similarity: {similarity:.2f}\")\n"
   ]
  },
  {
   "cell_type": "code",
   "execution_count": 13,
   "metadata": {},
   "outputs": [
    {
     "name": "stdout",
     "output_type": "stream",
     "text": [
      "0.9203579866168444\n"
     ]
    }
   ],
   "source": [
    "# Another method:\n",
    "\n",
    "s1 = 'The Sky is Blue'.lower()\n",
    "s2 ='The Ocean is Blue'.lower()\n",
    "vec1=np.array([1,2,3,4])\n",
    "vec2=np.array([1,5,3,4])\n",
    "dot= np.dot(vec1,vec2)\n",
    "nor=np.linalg.norm(vec1)*np.linalg.norm(vec2)\n",
    "similarity=dot/nor\n",
    "print(similarity)"
   ]
  },
  {
   "cell_type": "markdown",
   "metadata": {},
   "source": [
    "### **Use TD-IDF Algorithm to Vectorize the sentences**\n",
    "\n",
    "**TF (t)**= total number of occurrence of term t in sentence (doc)/ total length of words in sentence (doc) / total length of words in sentence (doc)\n",
    "\n",
    "**IDF (t)**= log (total sentence (doc) length) / no of documents contains term t\n",
    "\n",
    "**tf=idf score = tf * idf**"
   ]
  },
  {
   "cell_type": "code",
   "execution_count": 24,
   "metadata": {},
   "outputs": [
    {
     "name": "stdout",
     "output_type": "stream",
     "text": [
      "Similarity: 0.54\n"
     ]
    }
   ],
   "source": [
    "# repetance of certain word in sentence is logged to check similarity\n",
    "\n",
    "sentence1 = 'The icecrean has pink'.lower()\n",
    "sentence2 = 'The ocean is blue'.lower()\n",
    "\n",
    "def tf_idf_vectorizer (word, sentence):\n",
    "    tf = sentence.count(word) / len(sentence.split())     # split = separates and list garxa\n",
    "    total_doc_size = 2\n",
    "    idf = np.log1p(total_doc_size / 1 if word in sen_1 else 0 + 1 if word in sen_2 else 0)\n",
    "    return tf * idf\n",
    "\n",
    "vec1 = [tf_idf_vectorizer(word,sentence1) for word in sentence1.split()]\n",
    "vec2 = [tf_idf_vectorizer(word,sentence2) for word in sentence2.split()]\n",
    "\n",
    "dot = np.dot(vec1,vec2)\n",
    "norm =np.linalg.norm(vec1) * np.linalg.norm(vec2)\n",
    "\n",
    "similarity = dot/norm\n",
    "print(f\"Similarity: {similarity:.2f}\")\n"
   ]
  },
  {
   "cell_type": "code",
   "execution_count": null,
   "metadata": {},
   "outputs": [
    {
     "data": {
      "text/plain": [
       "1.0"
      ]
     },
     "execution_count": 25,
     "metadata": {},
     "output_type": "execute_result"
    }
   ],
   "source": [
    "import numpy as np\n",
    "s1 = 'The Sky is Blue'.lower()\n",
    "s2 ='You Look so nice'.lower()\n",
    "vec1=np.array([1,2,3,4])\n",
    "vec2=np.array([1,5,3,4])\n",
    "\n",
    "def tf_idf_vectorizer(word, sentence):\n",
    "    tf=sentence.count(word)/len(sentence.split())                 # split = separates and list garxa\n",
    "    total_doc_size=2\n",
    "    idf= np.log1p(total_doc_size/1 if word in s1 else 0 +1 if word in s2 else 0 )\n",
    "    return tf *idf\n",
    "\n",
    "vec1=([tf_idf_vectorizer(word,s1) for word in s1.split()])\n",
    "vec2=([tf_idf_vectorizer(word,s2) for word in s2.split()])\n",
    "similarity=np.dot(vec1, vec2)/ (np.linalg.norm(vec1)*np.linalg.norm(vec2))\n",
    "similarity"
   ]
  },
  {
   "cell_type": "markdown",
   "metadata": {},
   "source": [
    "# **Linear Regression**\n",
    "* Simple Linear Regression\n",
    "* Multiple Linear Regression\n",
    "* Polynomial Regression"
   ]
  },
  {
   "cell_type": "markdown",
   "metadata": {},
   "source": [
    "## a. Simple Linear Regression"
   ]
  },
  {
   "cell_type": "markdown",
   "metadata": {},
   "source": [
    "#### Direct Formula (slope)\n",
    "* m = (n ∑(XY) - ∑ X ∑ y) \\ (n ∑(X)^2 - (∑X)^2 ) \n",
    "\n",
    "* c = (∑Y - m ∑x) / n"
   ]
  },
  {
   "cell_type": "code",
   "execution_count": 6,
   "metadata": {},
   "outputs": [
    {
     "data": {
      "image/png": "[encoded data removed]",
      "text/plain": [
       "<Figure size 500x300 with 1 Axes>"
      ]
     },
     "metadata": {},
     "output_type": "display_data"
    }
   ],
   "source": [
    "import pandas as pd \n",
    "import numpy as np \n",
    "import matplotlib.pyplot as plt\n",
    "\n",
    "# From the given data, predict sales when price is 20, using simple linear regression \n",
    "sales_data = pd.DataFrame({\n",
    "    'price':[10,12,13,12,16,15],\n",
    "    'sales':[40,38,43,45,37,43]\n",
    "})\n",
    "plt.figure(figsize=(5,3))\n",
    "plt.scatter(\n",
    "    sales_data['price'],\n",
    "    sales_data['sales'],\n",
    "    color = 'purple',\n",
    "    edgecolor = 'black'\n",
    ")\n",
    "\n",
    "# fit a linear regression model to the data \n",
    "x = sales_data['price']\n",
    "y = sales_data['sales']\n",
    "m,c = np.polyfit(x,y,1)\n",
    "# Plot the trend line \n",
    "plt.plot(x, m * x + c, color = 'red',\n",
    "         linewidth = 1,\n",
    ")\n",
    "plt.xticks(rotation=45)\n",
    "plt.title('Price vs Sales')\n",
    "plt.xlabel('Price')\n",
    "plt.ylabel('Sales')\n",
    "plt.grid(True)\n",
    "plt.show()"
   ]
  },
  {
   "cell_type": "code",
   "execution_count": 7,
   "metadata": {},
   "outputs": [
    {
     "name": "stdout",
     "output_type": "stream",
     "text": [
      "Slope (m): -0.25\n",
      "Intercept (c): 44.25\n"
     ]
    }
   ],
   "source": [
    "import numpy as np\n",
    "\n",
    "X = sales_data['price']\n",
    "Y = sales_data['sales']\n",
    "n = len(X)\n",
    "\n",
    "sum_X = np.sum(X)\n",
    "sum_Y = np.sum(Y)\n",
    "sum_XY = np.sum(X*Y)\n",
    "sum_Xsquare = np.sum(x**2)\n",
    "\n",
    "m = (n * sum_XY - sum_X * sum_Y) / (n * sum_Xsquare - sum_X**2)\n",
    "c = (sum_Y - m * sum_X) / n\n",
    "\n",
    "# Print the results\n",
    "print(f\"Slope (m): {m}\")\n",
    "print(f\"Intercept (c): {c}\")"
   ]
  },
  {
   "cell_type": "markdown",
   "metadata": {},
   "source": [
    "## # Sales Prediction (marketing-vs-Sales)\n",
    "Build a multiple linear model which predicts sales based on the money spent on different platforms for marketing"
   ]
  },
  {
   "cell_type": "markdown",
   "metadata": {},
   "source": [
    "### 1. Load Data"
   ]
  },
  {
   "cell_type": "code",
   "execution_count": 8,
   "metadata": {},
   "outputs": [
    {
     "data": {
      "text/html": [
       "<div>\n",
       "<style scoped>\n",
       "    .dataframe tbody tr th:only-of-type {\n",
       "        vertical-align: middle;\n",
       "    }\n",
       "\n",
       "    .dataframe tbody tr th {\n",
       "        vertical-align: top;\n",
       "    }\n",
       "\n",
       "    .dataframe thead th {\n",
       "        text-align: right;\n",
       "    }\n",
       "</style>\n",
       "<table border=\"1\" class=\"dataframe\">\n",
       "  <thead>\n",
       "    <tr style=\"text-align: right;\">\n",
       "      <th></th>\n",
       "      <th>TV</th>\n",
       "      <th>Radio</th>\n",
       "      <th>Newspaper</th>\n",
       "      <th>Sales</th>\n",
       "    </tr>\n",
       "  </thead>\n",
       "  <tbody>\n",
       "    <tr>\n",
       "      <th>0</th>\n",
       "      <td>230.1</td>\n",
       "      <td>37.8</td>\n",
       "      <td>69.2</td>\n",
       "      <td>22.1</td>\n",
       "    </tr>\n",
       "    <tr>\n",
       "      <th>1</th>\n",
       "      <td>44.5</td>\n",
       "      <td>39.3</td>\n",
       "      <td>45.1</td>\n",
       "      <td>10.4</td>\n",
       "    </tr>\n",
       "    <tr>\n",
       "      <th>2</th>\n",
       "      <td>17.2</td>\n",
       "      <td>45.9</td>\n",
       "      <td>69.3</td>\n",
       "      <td>12.0</td>\n",
       "    </tr>\n",
       "    <tr>\n",
       "      <th>3</th>\n",
       "      <td>151.5</td>\n",
       "      <td>41.3</td>\n",
       "      <td>58.5</td>\n",
       "      <td>16.5</td>\n",
       "    </tr>\n",
       "    <tr>\n",
       "      <th>4</th>\n",
       "      <td>180.8</td>\n",
       "      <td>10.8</td>\n",
       "      <td>58.4</td>\n",
       "      <td>17.9</td>\n",
       "    </tr>\n",
       "  </tbody>\n",
       "</table>\n",
       "</div>"
      ],
      "text/plain": [
       "      TV  Radio  Newspaper  Sales\n",
       "0  230.1   37.8       69.2   22.1\n",
       "1   44.5   39.3       45.1   10.4\n",
       "2   17.2   45.9       69.3   12.0\n",
       "3  151.5   41.3       58.5   16.5\n",
       "4  180.8   10.8       58.4   17.9"
      ]
     },
     "execution_count": 8,
     "metadata": {},
     "output_type": "execute_result"
    }
   ],
   "source": [
    "import pandas as pd \n",
    "marketing_data = pd.read_csv('./data/marketing-sales.csv')\n",
    "marketing_data.head()"
   ]
  },
  {
   "cell_type": "markdown",
   "metadata": {},
   "source": [
    "### 2. Data Cleaning and Pre-processing\n",
    "* Fix Data Types\n",
    "* Normalization (if required)\n",
    "* Handle missing data\n",
    "* Perform Data transformation/ filtyering (if required)"
   ]
  },
  {
   "cell_type": "code",
   "execution_count": 9,
   "metadata": {},
   "outputs": [],
   "source": [
    "marketing_data = marketing_data.fillna(marketing_data.mean())"
   ]
  },
  {
   "cell_type": "markdown",
   "metadata": {},
   "source": [
    "### 3. Exploratory Data Analysis"
   ]
  },
  {
   "cell_type": "code",
   "execution_count": 10,
   "metadata": {},
   "outputs": [
    {
     "data": {
      "text/plain": [
       "<Figure size 1000x500 with 0 Axes>"
      ]
     },
     "metadata": {},
     "output_type": "display_data"
    },
    {
     "data": {
      "image/png": "[encoded data removed]",
      "text/plain": [
       "<Figure size 1200x400 with 3 Axes>"
      ]
     },
     "metadata": {},
     "output_type": "display_data"
    },
    {
     "data": {
      "image/png": "[encoded data removed]",
      "text/plain": [
       "<Figure size 1000x500 with 2 Axes>"
      ]
     },
     "metadata": {},
     "output_type": "display_data"
    }
   ],
   "source": [
    "import matplotlib.pyplot as plt\n",
    "import seaborn as sns\n",
    "\n",
    "#scattered plot between TV-Sales, Newspaper-Sales, Radio-Sales\n",
    "plt.figure(figsize=(10,5))\n",
    "sns.pairplot(marketing_data, x_vars=['TV', 'Newspaper', 'Radio'], y_vars='Sales', height=4, aspect=1, kind='scatter')\n",
    "plt.show()\n",
    "\n",
    "# Hitmap to find out the correlation between variables\n",
    "plt.figure(figsize=(10,5))\n",
    "sns.heatmap(marketing_data.corr(), cmap=\"Reds\", annot = True)\n",
    "plt.show()"
   ]
  },
  {
   "cell_type": "markdown",
   "metadata": {},
   "source": [
    "## b. Build Multiple Linear Regression Model\n",
    "* TV, Radio, Newspaper are features (x1,x2,x3)\n",
    "* Sales is Label (y)\n",
    "\n",
    "**Equation** y = β0 + β1.X1 + β2.X2 +....+ βn.Xn + ∈\n"
   ]
  },
  {
   "cell_type": "markdown",
   "metadata": {},
   "source": [
    "### 1. Prepare train-test Dataset"
   ]
  },
  {
   "cell_type": "code",
   "execution_count": null,
   "metadata": {},
   "outputs": [],
   "source": [
    "from sklearn.model_selection import train_test_split\n",
    "\n",
    "# Define features (X) and target (y)\n",
    "X = marketing_data[['TV', 'Radio', 'Newspaper']]\n",
    "y = marketing_data['Sales']\n",
    "\n",
    "# Split the data into training and testing sets\n",
    "X_train, X_test, y_train, y_test = train_test_split(X, y, test_size=0.2, random_state=42)"
   ]
  },
  {
   "cell_type": "markdown",
   "metadata": {},
   "source": [
    "### 2. Build Model"
   ]
  },
  {
   "cell_type": "code",
   "execution_count": null,
   "metadata": {},
   "outputs": [
    {
     "name": "stdout",
     "output_type": "stream",
     "text": [
      "Coefficients: [0.05450927 0.10094536 0.00433665]\n",
      "Intercept: 4.714126402214134\n"
     ]
    }
   ],
   "source": [
    "from sklearn.linear_model import LinearRegression\n",
    "\n",
    "# Initialize the model\n",
    "sales_model = LinearRegression()\n",
    "\n",
    "# fit data to the model\n",
    "sales_model.fit(X_train, y_train)\n",
    "\n",
    "# Print the coefficients \n",
    "print(\"Coefficients:\", sales_model.coef_)\n",
    "print(\"Intercept:\", sales_model.intercept_)"
   ]
  },
  {
   "cell_type": "markdown",
   "metadata": {},
   "source": [
    "### 3. Evaluate Model"
   ]
  },
  {
   "cell_type": "markdown",
   "metadata": {},
   "source": [
    "#### Formula:\n",
    "mse = mean_squared_error(y_test, y_pred)         \n",
    "rmse = mse ** 1/2 "
   ]
  },
  {
   "cell_type": "code",
   "execution_count": 15,
   "metadata": {},
   "outputs": [
    {
     "name": "stdout",
     "output_type": "stream",
     "text": [
      "Mean Squared Error: 2.907756910271091\n",
      "Root Mean Squared Error: 1.4538784551355455\n"
     ]
    }
   ],
   "source": [
    "from sklearn.metrics import mean_squared_error\n",
    "\n",
    "# Make predictions\n",
    "y_pred = sales_model.predict(X_test)\n",
    "\n",
    "# Evaluate the model\n",
    "mse = mean_squared_error(y_test, y_pred)         # Mean Squared Error = actual value - model le deko value (ŷ = Y HAT)\n",
    "rmse = mse ** 1/2     \n",
    "print(\"Mean Squared Error:\", mse)\n",
    "print(\"Root Mean Squared Error:\", rmse)"
   ]
  },
  {
   "cell_type": "markdown",
   "metadata": {},
   "source": [
    "### 4. Inferences (use model in real world)"
   ]
  },
  {
   "cell_type": "code",
   "execution_count": 18,
   "metadata": {},
   "outputs": [
    {
     "name": "stdout",
     "output_type": "stream",
     "text": [
      "[[200  25  40]]\n",
      "Advertising Budget (TV: 200, Radio: 25, Newspaper: 40) -> Predicted Sales: 18.31\n"
     ]
    }
   ],
   "source": [
    "import numpy as np\n",
    "\n",
    "# Single data point for inference\n",
    "tv_ad_cost = 200\n",
    "radio_ad_cost = 25\n",
    "news_ad_cost = 40\n",
    "# create 1x array_len matrix (column matrix)\n",
    "single_data = np.array([tv_ad_cost,radio_ad_cost,news_ad_cost]).reshape(1,3)\n",
    "print(single_data)\n",
    "# Predict sales for the single data point\n",
    "single_prediction = sales_model.predict(single_data)\n",
    "\n",
    "# Display the prediction\n",
    "print(f\"Advertising Budget (TV: {tv_ad_cost}, Radio: {radio_ad_cost}, Newspaper: {news_ad_cost}) -> Predicted Sales: {single_prediction[0]:.2f}\")"
   ]
  }
 ],
 "metadata": {
  "kernelspec": {
   "display_name": "base",
   "language": "python",
   "name": "python3"
  },
  "language_info": {
   "codemirror_mode": {
    "name": "ipython",
    "version": 3
   },
   "file_extension": ".py",
   "mimetype": "text/x-python",
   "name": "python",
   "nbconvert_exporter": "python",
   "pygments_lexer": "ipython3",
   "version": "3.12.4"
  }
 },
 "nbformat": 4,
 "nbformat_minor": 2
}
