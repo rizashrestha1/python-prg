{
 "cells": [
  {
   "cell_type": "markdown",
   "metadata": {},
   "source": [
    "#FIRST CODE"
   ]
  },
  {
   "cell_type": "code",
   "execution_count": 6,
   "metadata": {},
   "outputs": [
    {
     "name": "stdout",
     "output_type": "stream",
     "text": [
      "hello world\n"
     ]
    }
   ],
   "source": [
    "hello=\"hello world\"\n",
    "print(hello)"
   ]
  },
  {
   "cell_type": "markdown",
   "metadata": {},
   "source": [
    "Python Numbers"
   ]
  },
  {
   "cell_type": "code",
   "execution_count": 9,
   "metadata": {},
   "outputs": [
    {
     "name": "stdout",
     "output_type": "stream",
     "text": [
      "3.14\n"
     ]
    }
   ],
   "source": [
    "pi=3.14\n",
    "print (pi)"
   ]
  },
  {
   "cell_type": "markdown",
   "metadata": {},
   "source": [
    "Figuring Variable Type"
   ]
  },
  {
   "cell_type": "code",
   "execution_count": 11,
   "metadata": {},
   "outputs": [
    {
     "name": "stdout",
     "output_type": "stream",
     "text": [
      "<class 'int'>\n"
     ]
    }
   ],
   "source": [
    "Age=30\n",
    "price=10.5\n",
    "real_imaginary=1\n",
    "print (type(Age))\n"
   ]
  },
  {
   "cell_type": "markdown",
   "metadata": {},
   "source": [
    " # Arithmetic Operator"
   ]
  },
  {
   "cell_type": "markdown",
   "metadata": {},
   "source": [
    "#Here we have used operators to find sum, difference, product, remainder and power of two numbers:5 and 10"
   ]
  },
  {
   "cell_type": "code",
   "execution_count": 17,
   "metadata": {},
   "outputs": [
    {
     "name": "stdout",
     "output_type": "stream",
     "text": [
      "15\n",
      "-5\n",
      "50\n",
      "5\n",
      "65536\n"
     ]
    }
   ],
   "source": [
    "a=5\n",
    "b=10\n",
    "\n",
    "# Addition\n",
    "sum_of_ab = a+b\n",
    "print(sum_of_ab)\n",
    "\n",
    "# Subtraction\n",
    "diff_of_ab = a-b\n",
    "print(diff_of_ab)\n",
    "\n",
    "# Multiplication\n",
    "product_of_ab = a*b\n",
    "print(product_of_ab)\n",
    "\n",
    "#Modolus\n",
    "rem_a_b = a%b\n",
    "print(rem_a_b)\n",
    "\n",
    "#Power\n",
    "total_ram_size = 2**16\n",
    "print(total_ram_size)\n"
   ]
  },
  {
   "cell_type": "markdown",
   "metadata": {},
   "source": [
    "# String in Python"
   ]
  },
  {
   "cell_type": "markdown",
   "metadata": {},
   "source": [
    "Collection of Characters"
   ]
  },
  {
   "cell_type": "code",
   "execution_count": 31,
   "metadata": {},
   "outputs": [
    {
     "name": "stdout",
     "output_type": "stream",
     "text": [
      "Rija Shrestha\n",
      "13\n",
      "R\n",
      "S\n",
      "a\n",
      "first last name = Rija Shrestha\n"
     ]
    }
   ],
   "source": [
    "name = \"Rija Shrestha\"\n",
    "print(name)\n",
    "#length of the string\n",
    "total_no_of_chars = len(name)  #len is used to count the number of characters\n",
    "print(total_no_of_chars)\n",
    "\n",
    "#get first char\n",
    "first_char = name[0]\n",
    "print(first_char)\n",
    "\n",
    "#get 5th char\n",
    "fifth_char = name[5]\n",
    "print(fifth_char)\n",
    "\n",
    "#last char\n",
    "last_char = name[len(name)-1]\n",
    "print(last_char)\n",
    "\n",
    "#sub-string\n",
    "first_name = name[0:4]\n",
    "last_name =  name[5:13]\n",
    "print(\"first last name =\", first_name, last_name)\n"
   ]
  },
  {
   "cell_type": "markdown",
   "metadata": {},
   "source": [
    "Name= SUSMAN "
   ]
  },
  {
   "cell_type": "code",
   "execution_count": 45,
   "metadata": {},
   "outputs": [
    {
     "name": "stdout",
     "output_type": "stream",
     "text": [
      "Name is Susman Raj Shrestha\n"
     ]
    },
    {
     "name": "stdout",
     "output_type": "stream",
     "text": [
      "Name is Susman Ra Shrestha\n"
     ]
    }
   ],
   "source": [
    "name = \"Susman Raj Shrestha\"\n",
    "first_name = name[:6]\n",
    "middle_name = name[7:9]\n",
    "last_name = name[11:]\n",
    "print(\"Name is\", first_name, middle_name, last_name)"
   ]
  },
  {
   "cell_type": "markdown",
   "metadata": {},
   "source": [
    "# Coditional Statements\n",
    "* if\n",
    "* elif\n",
    "* else"
   ]
  },
  {
   "cell_type": "code",
   "execution_count": 7,
   "metadata": {},
   "outputs": [
    {
     "name": "stdout",
     "output_type": "stream",
     "text": [
      "Its Holiday\n"
     ]
    }
   ],
   "source": [
    "day = int(input('enter day'))\n",
    "if day==4:\n",
    "    print(\"I haave to wake up t 5AM\")\n",
    "    print(\"I have to go to office\")\n",
    "    print(\"It's Wednesday\")\n",
    "elif day==5:\n",
    "    print(\"Its Holiday\")\n",
    "else:\n",
    "    print('test')"
   ]
  },
  {
   "cell_type": "markdown",
   "metadata": {},
   "source": [
    "# Even or Odd"
   ]
  },
  {
   "cell_type": "markdown",
   "metadata": {},
   "source": [
    "#Finding if a number is even or odd"
   ]
  },
  {
   "cell_type": "code",
   "execution_count": 10,
   "metadata": {},
   "outputs": [
    {
     "name": "stdout",
     "output_type": "stream",
     "text": [
      "Number is even\n"
     ]
    }
   ],
   "source": [
    "num=int(input(\"Enter a number\"))\n",
    "if num % 2==0:\n",
    "    print(\"Number is even\")\n",
    "else:\n",
    "    print(\"Number is odd\")"
   ]
  },
  {
   "cell_type": "markdown",
   "metadata": {},
   "source": [
    "#Printing the subject according to the time entered by the user.\n",
    "#if time is:\n",
    "#in between 10-12 print its time for python\n",
    "#in between 12-14 print its time for DSA\n",
    "#in between 14-16 print its time for English\n",
    "#default \"getting ready\""
   ]
  },
  {
   "cell_type": "code",
   "execution_count": 13,
   "metadata": {},
   "outputs": [
    {
     "name": "stdout",
     "output_type": "stream",
     "text": [
      "Its time for English\n"
     ]
    }
   ],
   "source": [
    "time=int(input(\"enter your time\"))\n",
    "if time>=10 and time<=12:\n",
    "    print(\"Its time for python\")\n",
    "elif time>=12 and time<=14:\n",
    "    print(\"Its time for DSA\")\n",
    "elif time>=14 and time<=16:\n",
    "    print(\"Its time for English\")\n",
    "else:\n",
    "    print(\"Getting Ready\")"
   ]
  },
  {
   "cell_type": "markdown",
   "metadata": {},
   "source": [
    "#If you are from \"Nepal\" or \"India\" ticket for cable car is 50 else 100"
   ]
  },
  {
   "cell_type": "code",
   "execution_count": 20,
   "metadata": {},
   "outputs": [
    {
     "name": "stdout",
     "output_type": "stream",
     "text": [
      "ticket price for cablecar is 50\n"
     ]
    }
   ],
   "source": [
    "citizen=input(\"Where are you from?\")\n",
    "if citizen.lower()==\"nepal\" or citizen.lower()==\"india\":                    #for lower the case\n",
    "    print(\"ticket price for cablecar is 50\")\n",
    "else:\n",
    "    print(\"ticket price for cablecar is 100\")"
   ]
  },
  {
   "cell_type": "markdown",
   "metadata": {},
   "source": [
    "# Loop\n",
    "* while\n",
    "* for"
   ]
  },
  {
   "cell_type": "code",
   "execution_count": 28,
   "metadata": {},
   "outputs": [
    {
     "name": "stdout",
     "output_type": "stream",
     "text": [
      "Hello0\n",
      "0\n",
      "Hello1\n",
      "1\n",
      "Hello2\n",
      "2\n",
      "Hello3\n",
      "3\n",
      "Hello4\n",
      "4\n",
      "Hello5\n",
      "5\n",
      "Hello6\n",
      "6\n",
      "Hello7\n",
      "7\n",
      "Hello8\n",
      "8\n",
      "Hello9\n",
      "9\n"
     ]
    }
   ],
   "source": [
    "#print hello in ascending order\n",
    "from time import sleep\n",
    "counter = 0\n",
    "while counter<10:\n",
    "    print (\"Hello\" + str(counter))                 # print (f\"hello {counter}\") f \n",
    "    print (counter)                          # Sleep is used to delay the input by 1 second\n",
    "    counter +=1\n",
    "    sleep (1)\n"
   ]
  },
  {
   "cell_type": "code",
   "execution_count": 31,
   "metadata": {},
   "outputs": [
    {
     "name": "stdout",
     "output_type": "stream",
     "text": [
      "Hello 10\n",
      "Hello 9\n",
      "Hello 8\n",
      "Hello 7\n",
      "Hello 6\n",
      "Hello 5\n",
      "Hello 4\n",
      "Hello 3\n",
      "Hello 2\n",
      "Hello 1\n"
     ]
    }
   ],
   "source": [
    "#print hello in descending order\n",
    "from time import sleep\n",
    "counter=10\n",
    "while counter>0:\n",
    "    print(f\"Hello {counter}\")      #f for concat\n",
    "    counter -=1\n",
    "    sleep(1)"
   ]
  },
  {
   "cell_type": "markdown",
   "metadata": {},
   "source": [
    "#find sum of first n=100 natural number"
   ]
  },
  {
   "cell_type": "code",
   "execution_count": 36,
   "metadata": {},
   "outputs": [
    {
     "name": "stdout",
     "output_type": "stream",
     "text": [
      "5050\n"
     ]
    }
   ],
   "source": [
    "n=100\n",
    "counter=0\n",
    "sum=0\n",
    "while counter<=n:                         \n",
    "    sum += counter\n",
    "    counter+=1\n",
    "print(sum)"
   ]
  },
  {
   "cell_type": "markdown",
   "metadata": {},
   "source": [
    "#find sum of first 10 even numbers"
   ]
  },
  {
   "cell_type": "code",
   "execution_count": 45,
   "metadata": {},
   "outputs": [
    {
     "name": "stdout",
     "output_type": "stream",
     "text": [
      "30\n"
     ]
    }
   ],
   "source": [
    "n=10\n",
    "counter=1\n",
    "sum=0\n",
    "while counter<=n:\n",
    "    if counter%2==0:\n",
    "        sum += counter\n",
    "    counter+=1\n",
    "print(sum)"
   ]
  },
  {
   "cell_type": "markdown",
   "metadata": {},
   "source": [
    "#Reverse the given string"
   ]
  },
  {
   "cell_type": "code",
   "execution_count": 46,
   "metadata": {},
   "outputs": [
    {
     "name": "stdout",
     "output_type": "stream",
     "text": [
      "14\n",
      "lapeN udnamhtaK\n"
     ]
    }
   ],
   "source": [
    "address=\"Kathmandu Nepal\"\n",
    "length=len(address)-1\n",
    "reversed_string=''\n",
    "print(length)\n",
    "while length>=0:\n",
    "    reversed_string=reversed_string + address[length]\n",
    "    length-=1\n",
    "print(reversed_string)"
   ]
  },
  {
   "cell_type": "markdown",
   "metadata": {},
   "source": [
    "# Python List\n",
    "#List is ordered collections of items"
   ]
  },
  {
   "cell_type": "code",
   "execution_count": 5,
   "metadata": {},
   "outputs": [
    {
     "name": "stdout",
     "output_type": "stream",
     "text": [
      "1\n",
      "6\n",
      "7\n"
     ]
    }
   ],
   "source": [
    "numbers =[1,2,3,4,5,7]\n",
    "students =['Ram','Hari']\n",
    "                                   # access elements from list \n",
    "first_number = numbers[0]\n",
    "print(first_number)\n",
    "                                   # count total number of items \n",
    "total_items = len(numbers)\n",
    "print(total_items)\n",
    "                                              # last element\n",
    "last_element = numbers[total_items-1]        #-1 is used to indicate last index\n",
    "print(last_element)"
   ]
  },
  {
   "cell_type": "markdown",
   "metadata": {},
   "source": [
    "# list methods\n",
    "* append (appends new item at the end)\n",
    "* pop( removes last element)\n",
    "* count (return total number of apperances of an item)\n",
    "* insert (insert item at perticular index)\n",
    "* extend (extend the list)\n",
    "* copy (copy items)\n",
    "* clear (delete all items)"
   ]
  },
  {
   "cell_type": "code",
   "execution_count": 12,
   "metadata": {},
   "outputs": [
    {
     "name": "stdout",
     "output_type": "stream",
     "text": [
      "[1, 4, 3, 5, 6, 7, 1, 1]\n",
      "[1, 4, 3, 5, 6, 7, 1, 1, 8]\n",
      "[1, 4, 3, 5, 6, 7, 1, 1]\n",
      "[1, 4, 3, 6, 7, 1, 1]\n",
      "[1, 4, 18, 3, 6, 7, 1, 1]\n",
      "3\n",
      "[1, 2, 3, 4]\n",
      "[]\n"
     ]
    }
   ],
   "source": [
    "numbers = [1,4,3,5,6,7,1,1]\n",
    "print(numbers)            # append item (append = add items)\n",
    "\n",
    "numbers.append(8)\n",
    "print(numbers)            # remove last item \n",
    "\n",
    "numbers.pop()\n",
    "print(numbers)            # remove\n",
    "\n",
    "numbers.remove(5)\n",
    "print(numbers)            # insert\n",
    "\n",
    "numbers.insert(2,18) \n",
    "print(numbers)      \n",
    "\n",
    "print(numbers.count(1))   # count\n",
    "\n",
    "numbers_1 = [1,2]\n",
    "numbers_2 = [3,4]\n",
    "numbers_1.extend(numbers_2)   #print(number_1 + number_2)\n",
    "print(numbers_1) \n",
    "\n",
    "numbers_1.clear()         # clear\n",
    "print(numbers_1)\n"
   ]
  },
  {
   "cell_type": "code",
   "execution_count": 15,
   "metadata": {},
   "outputs": [
    {
     "name": "stdout",
     "output_type": "stream",
     "text": [
      "6 5\n",
      "['Ram', 'Hari']\n",
      "Ram exists in a\n"
     ]
    }
   ],
   "source": [
    "a = 5\n",
    "b = a                       #Deep copy: Copies all the values in the memory or copy by value\n",
    "a = a+1\n",
    "print (a,b)\n",
    "\n",
    "#\n",
    "a = ['Ram','Hari']          \n",
    "b = a.copy()                #Shallow copy: Does not copy all the values in memory or copy by reference\n",
    "a.append('Gopal')\n",
    "print (b)\n",
    "                           #check value exist in list\n",
    "if 'Ram' in a:\n",
    "    print ('Ram exists in a')"
   ]
  },
  {
   "cell_type": "markdown",
   "metadata": {},
   "source": [
    "# Loop through list (iterate over list)"
   ]
  },
  {
   "cell_type": "code",
   "execution_count": 19,
   "metadata": {},
   "outputs": [
    {
     "name": "stdout",
     "output_type": "stream",
     "text": [
      "27\n"
     ]
    }
   ],
   "source": [
    "# Find the sum of all items of given list\n",
    "numbers = [1,2,3,4,5,6,6]\n",
    "total_items = len(numbers)\n",
    "index = 0\n",
    "sum = 0\n",
    "while index<total_items:\n",
    "    element = numbers[index]\n",
    "    sum += element\n",
    "    index +=1\n",
    "print(sum)"
   ]
  },
  {
   "cell_type": "code",
   "execution_count": 18,
   "metadata": {},
   "outputs": [
    {
     "name": "stdout",
     "output_type": "stream",
     "text": [
      "1\n",
      "2\n",
      "3\n",
      "4\n",
      "5\n",
      "6\n",
      "6\n",
      "27\n"
     ]
    }
   ],
   "source": [
    "numbers = [1,2,3,4,5,6,6]\n",
    "total_items = len(numbers)\n",
    "index = 0\n",
    "sum = 0\n",
    "while index<total_items:\n",
    "    element = numbers[index]\n",
    "    sum += element                    #list and print sum\n",
    "    print(element)\n",
    "    index += 1\n",
    "print(sum)"
   ]
  },
  {
   "cell_type": "code",
   "execution_count": 23,
   "metadata": {},
   "outputs": [
    {
     "name": "stdout",
     "output_type": "stream",
     "text": [
      "max value is 6\n"
     ]
    }
   ],
   "source": [
    "#Find the max value\n",
    "numbers = [1,2,3,4,5,6,6]\n",
    "total_items = len(numbers)\n",
    "index = 0\n",
    "max_value = numbers[0]\n",
    "while index<total_items:\n",
    "    if element>max_value:\n",
    "        max_value=numbers[index]\n",
    "    index +=1\n",
    "print(\"max value is\", max_value)"
   ]
  },
  {
   "cell_type": "markdown",
   "metadata": {},
   "source": [
    "# Filter Values"
   ]
  },
  {
   "cell_type": "code",
   "execution_count": 26,
   "metadata": {},
   "outputs": [
    {
     "name": "stdout",
     "output_type": "stream",
     "text": [
      "['Hari', 'Gopal']\n"
     ]
    }
   ],
   "source": [
    "students =['Ram','Hari','Gopal']\n",
    "filtered_students = [student for student in students if student !='Ram']\n",
    "print(filtered_students)"
   ]
  },
  {
   "cell_type": "code",
   "execution_count": 29,
   "metadata": {},
   "outputs": [
    {
     "name": "stdout",
     "output_type": "stream",
     "text": [
      "[[1, 2, 3, 4, 5, 6, 6], [1, 2, 3, 4, 5, 6, 6], [1, 2, 3, 4, 5, 6, 6], [1, 2, 3, 4, 5, 6, 6]]\n"
     ]
    }
   ],
   "source": [
    "# create list of even numbers from given list\n",
    "nummbers = [1,3,2,4,5,7,11,9,8]\n",
    "even_numbers = [number for number in numbers if number %2==0]\n",
    "print (even_numbers)\n"
   ]
  }
 ],
 "metadata": {
  "kernelspec": {
   "display_name": "base",
   "language": "python",
   "name": "python3"
  },
  "language_info": {
   "codemirror_mode": {
    "name": "ipython",
    "version": 3
   },
   "file_extension": ".py",
   "mimetype": "text/x-python",
   "name": "python",
   "nbconvert_exporter": "python",
   "pygments_lexer": "ipython3",
   "version": "3.12.4"
  }
 },
 "nbformat": 4,
 "nbformat_minor": 2
}
